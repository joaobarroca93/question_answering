{
 "cells": [
  {
   "attachments": {},
   "cell_type": "markdown",
   "metadata": {},
   "source": [
    "# Data Preprocessing\n",
    "\n",
    "In this notebook we preprocess and prepate all the datasets we are going to need for the next steps.\n",
    "\n",
    "In particular, we want to trim all the whitespaces both the questions and contexts for the full dataset.\n",
    "\n",
    "Additionally, we want to save all unique documents (each with a unique Id) in a separate file to use later for retrieval.\n",
    "\n",
    "Finally, we want to generate a test set that we will use to benchmark the different retrieval algorithms. As we saw in our data analysis, there are 5 questions that are duplicated (but have a different context), and there are some contexts that are used by different questions. This may be important for the sampling mechanism to prevent sampling bias.\n",
    "\n",
    "By the end of the notebook, we should have generated three files:\n",
    "- `query_context_pairs.csv` (dataset after applying text preprocessing)\n",
    "- `documents.csv` (dataset with unique documents)\n",
    "- `train_query_context_pairs.csv`  (dataset for training/val)\n",
    "- `test_query_context_pairs.csv` (dataset for testing)"
   ]
  },
  {
   "cell_type": "code",
   "execution_count": 1,
   "metadata": {},
   "outputs": [],
   "source": [
    "import hashlib\n",
    "import pandas as pd\n",
    "\n",
    "from pathlib import Path\n",
    "from sklearn.model_selection import train_test_split"
   ]
  },
  {
   "cell_type": "code",
   "execution_count": 2,
   "metadata": {},
   "outputs": [],
   "source": [
    "DOCUMENTS_FILENAME = \"documents.csv\"\n",
    "DATASET_PATH = \"query_context_pairs.csv\"\n",
    "TRAIN_DATASET_PATH = \"train_query_context_pairs.csv\"\n",
    "TEST_DATASET_PATH = \"test_query_context_pairs.csv\""
   ]
  },
  {
   "attachments": {},
   "cell_type": "markdown",
   "metadata": {},
   "source": [
    "## Load the dataset"
   ]
  },
  {
   "cell_type": "code",
   "execution_count": 3,
   "metadata": {},
   "outputs": [
    {
     "name": "stdout",
     "output_type": "stream",
     "text": [
      "Length of the dataset:  20000\n",
      "Length of the dataset [after removing duplicates]:  19988\n"
     ]
    },
    {
     "data": {
      "text/html": [
       "<div>\n",
       "<style scoped>\n",
       "    .dataframe tbody tr th:only-of-type {\n",
       "        vertical-align: middle;\n",
       "    }\n",
       "\n",
       "    .dataframe tbody tr th {\n",
       "        vertical-align: top;\n",
       "    }\n",
       "\n",
       "    .dataframe thead th {\n",
       "        text-align: right;\n",
       "    }\n",
       "</style>\n",
       "<table border=\"1\" class=\"dataframe\">\n",
       "  <thead>\n",
       "    <tr style=\"text-align: right;\">\n",
       "      <th></th>\n",
       "      <th>question</th>\n",
       "      <th>context</th>\n",
       "    </tr>\n",
       "  </thead>\n",
       "  <tbody>\n",
       "    <tr>\n",
       "      <th>0</th>\n",
       "      <td>Do European Leagues sell their television righ...</td>\n",
       "      <td>The Premier League sells its television rights...</td>\n",
       "    </tr>\n",
       "    <tr>\n",
       "      <th>1</th>\n",
       "      <td>What does the Catholic church considered \"mixe...</td>\n",
       "      <td>Between the third and fourth sessions the pope...</td>\n",
       "    </tr>\n",
       "    <tr>\n",
       "      <th>2</th>\n",
       "      <td>What are some of the practices Gautama underwe...</td>\n",
       "      <td>Gautama first went to study with famous religi...</td>\n",
       "    </tr>\n",
       "    <tr>\n",
       "      <th>3</th>\n",
       "      <td>How many band members wrote Queen's One Vision?</td>\n",
       "      <td>The band, now revitalised by the response to L...</td>\n",
       "    </tr>\n",
       "    <tr>\n",
       "      <th>4</th>\n",
       "      <td>When did the federation have to be implemented...</td>\n",
       "      <td>After Nasser died in November 1970, his succes...</td>\n",
       "    </tr>\n",
       "  </tbody>\n",
       "</table>\n",
       "</div>"
      ],
      "text/plain": [
       "                                            question  \\\n",
       "0  Do European Leagues sell their television righ...   \n",
       "1  What does the Catholic church considered \"mixe...   \n",
       "2  What are some of the practices Gautama underwe...   \n",
       "3    How many band members wrote Queen's One Vision?   \n",
       "4  When did the federation have to be implemented...   \n",
       "\n",
       "                                             context  \n",
       "0  The Premier League sells its television rights...  \n",
       "1  Between the third and fourth sessions the pope...  \n",
       "2  Gautama first went to study with famous religi...  \n",
       "3  The band, now revitalised by the response to L...  \n",
       "4  After Nasser died in November 1970, his succes...  "
      ]
     },
     "execution_count": 3,
     "metadata": {},
     "output_type": "execute_result"
    }
   ],
   "source": [
    "data_path = Path.cwd().resolve().absolute().parent / \"data\"\n",
    "dataset_path = data_path / \"ds_nlp_challenge.csv\"\n",
    "dataset = pd.read_csv(dataset_path, index_col=0)\n",
    "print(\"Length of the dataset: \", len(dataset))\n",
    "\n",
    "dataset = dataset.drop_duplicates()\n",
    "print(\"Length of the dataset [after removing duplicates]: \", len(dataset))\n",
    "\n",
    "dataset[\"question\"] = dataset[\"question\"].str.strip()\n",
    "dataset[\"context\"] = dataset[\"context\"].str.strip()\n",
    "\n",
    "dataset.head()"
   ]
  },
  {
   "attachments": {},
   "cell_type": "markdown",
   "metadata": {},
   "source": [
    "## Generate document and question Ids"
   ]
  },
  {
   "cell_type": "code",
   "execution_count": 4,
   "metadata": {},
   "outputs": [
    {
     "data": {
      "text/html": [
       "<div>\n",
       "<style scoped>\n",
       "    .dataframe tbody tr th:only-of-type {\n",
       "        vertical-align: middle;\n",
       "    }\n",
       "\n",
       "    .dataframe tbody tr th {\n",
       "        vertical-align: top;\n",
       "    }\n",
       "\n",
       "    .dataframe thead th {\n",
       "        text-align: right;\n",
       "    }\n",
       "</style>\n",
       "<table border=\"1\" class=\"dataframe\">\n",
       "  <thead>\n",
       "    <tr style=\"text-align: right;\">\n",
       "      <th></th>\n",
       "      <th>question</th>\n",
       "      <th>context</th>\n",
       "      <th>question_id</th>\n",
       "      <th>context_id</th>\n",
       "    </tr>\n",
       "  </thead>\n",
       "  <tbody>\n",
       "    <tr>\n",
       "      <th>0</th>\n",
       "      <td>Do European Leagues sell their television righ...</td>\n",
       "      <td>The Premier League sells its television rights...</td>\n",
       "      <td>c3d337ab68dfd285f559ebc0daf65125</td>\n",
       "      <td>98d6e3c8d58561cff931f63fb4e64c1c</td>\n",
       "    </tr>\n",
       "    <tr>\n",
       "      <th>1</th>\n",
       "      <td>What does the Catholic church considered \"mixe...</td>\n",
       "      <td>Between the third and fourth sessions the pope...</td>\n",
       "      <td>b03fc4a34dda7d1cfb4e9640aec30d39</td>\n",
       "      <td>4bcb9c7951bfad7dc475dc0a8364b86d</td>\n",
       "    </tr>\n",
       "    <tr>\n",
       "      <th>2</th>\n",
       "      <td>What are some of the practices Gautama underwe...</td>\n",
       "      <td>Gautama first went to study with famous religi...</td>\n",
       "      <td>12397967175462937d614d633fb6a8b0</td>\n",
       "      <td>70e382792af20b3772cce2520b45da5e</td>\n",
       "    </tr>\n",
       "    <tr>\n",
       "      <th>3</th>\n",
       "      <td>How many band members wrote Queen's One Vision?</td>\n",
       "      <td>The band, now revitalised by the response to L...</td>\n",
       "      <td>77307b73836b34d59721596af121cd2f</td>\n",
       "      <td>5e450e68f649328e03bace871b873fee</td>\n",
       "    </tr>\n",
       "    <tr>\n",
       "      <th>4</th>\n",
       "      <td>When did the federation have to be implemented...</td>\n",
       "      <td>After Nasser died in November 1970, his succes...</td>\n",
       "      <td>1a6850f01a96afabb91c24cdb3edcdee</td>\n",
       "      <td>0409ff54cef43157e6e7c88803e8590a</td>\n",
       "    </tr>\n",
       "  </tbody>\n",
       "</table>\n",
       "</div>"
      ],
      "text/plain": [
       "                                            question  \\\n",
       "0  Do European Leagues sell their television righ...   \n",
       "1  What does the Catholic church considered \"mixe...   \n",
       "2  What are some of the practices Gautama underwe...   \n",
       "3    How many band members wrote Queen's One Vision?   \n",
       "4  When did the federation have to be implemented...   \n",
       "\n",
       "                                             context  \\\n",
       "0  The Premier League sells its television rights...   \n",
       "1  Between the third and fourth sessions the pope...   \n",
       "2  Gautama first went to study with famous religi...   \n",
       "3  The band, now revitalised by the response to L...   \n",
       "4  After Nasser died in November 1970, his succes...   \n",
       "\n",
       "                        question_id                        context_id  \n",
       "0  c3d337ab68dfd285f559ebc0daf65125  98d6e3c8d58561cff931f63fb4e64c1c  \n",
       "1  b03fc4a34dda7d1cfb4e9640aec30d39  4bcb9c7951bfad7dc475dc0a8364b86d  \n",
       "2  12397967175462937d614d633fb6a8b0  70e382792af20b3772cce2520b45da5e  \n",
       "3  77307b73836b34d59721596af121cd2f  5e450e68f649328e03bace871b873fee  \n",
       "4  1a6850f01a96afabb91c24cdb3edcdee  0409ff54cef43157e6e7c88803e8590a  "
      ]
     },
     "execution_count": 4,
     "metadata": {},
     "output_type": "execute_result"
    }
   ],
   "source": [
    "def generate_document_id(content):\n",
    "    return hashlib.md5(content.encode('utf-8')).hexdigest()\n",
    "\n",
    "dataset[\"question_id\"] = dataset[\"question\"].apply(lambda text: generate_document_id(text))\n",
    "dataset[\"context_id\"] = dataset[\"context\"].apply(lambda text: generate_document_id(text))\n",
    "dataset.head()"
   ]
  },
  {
   "attachments": {},
   "cell_type": "markdown",
   "metadata": {},
   "source": [
    "## Save processed dataset"
   ]
  },
  {
   "cell_type": "code",
   "execution_count": 5,
   "metadata": {},
   "outputs": [],
   "source": [
    "new_dataset_path = data_path / DATASET_PATH\n",
    "dataset.to_csv(new_dataset_path, index=False)"
   ]
  },
  {
   "attachments": {},
   "cell_type": "markdown",
   "metadata": {},
   "source": [
    "## Save dataset with unique documents"
   ]
  },
  {
   "cell_type": "code",
   "execution_count": 6,
   "metadata": {},
   "outputs": [
    {
     "name": "stdout",
     "output_type": "stream",
     "text": [
      "Total number of unique documents:  12761\n"
     ]
    },
    {
     "data": {
      "text/html": [
       "<div>\n",
       "<style scoped>\n",
       "    .dataframe tbody tr th:only-of-type {\n",
       "        vertical-align: middle;\n",
       "    }\n",
       "\n",
       "    .dataframe tbody tr th {\n",
       "        vertical-align: top;\n",
       "    }\n",
       "\n",
       "    .dataframe thead th {\n",
       "        text-align: right;\n",
       "    }\n",
       "</style>\n",
       "<table border=\"1\" class=\"dataframe\">\n",
       "  <thead>\n",
       "    <tr style=\"text-align: right;\">\n",
       "      <th></th>\n",
       "      <th>document_id</th>\n",
       "      <th>document_content</th>\n",
       "    </tr>\n",
       "  </thead>\n",
       "  <tbody>\n",
       "    <tr>\n",
       "      <th>0</th>\n",
       "      <td>98d6e3c8d58561cff931f63fb4e64c1c</td>\n",
       "      <td>The Premier League sells its television rights...</td>\n",
       "    </tr>\n",
       "    <tr>\n",
       "      <th>1</th>\n",
       "      <td>4bcb9c7951bfad7dc475dc0a8364b86d</td>\n",
       "      <td>Between the third and fourth sessions the pope...</td>\n",
       "    </tr>\n",
       "    <tr>\n",
       "      <th>2</th>\n",
       "      <td>70e382792af20b3772cce2520b45da5e</td>\n",
       "      <td>Gautama first went to study with famous religi...</td>\n",
       "    </tr>\n",
       "    <tr>\n",
       "      <th>3</th>\n",
       "      <td>5e450e68f649328e03bace871b873fee</td>\n",
       "      <td>The band, now revitalised by the response to L...</td>\n",
       "    </tr>\n",
       "    <tr>\n",
       "      <th>4</th>\n",
       "      <td>0409ff54cef43157e6e7c88803e8590a</td>\n",
       "      <td>After Nasser died in November 1970, his succes...</td>\n",
       "    </tr>\n",
       "  </tbody>\n",
       "</table>\n",
       "</div>"
      ],
      "text/plain": [
       "                        document_id  \\\n",
       "0  98d6e3c8d58561cff931f63fb4e64c1c   \n",
       "1  4bcb9c7951bfad7dc475dc0a8364b86d   \n",
       "2  70e382792af20b3772cce2520b45da5e   \n",
       "3  5e450e68f649328e03bace871b873fee   \n",
       "4  0409ff54cef43157e6e7c88803e8590a   \n",
       "\n",
       "                                    document_content  \n",
       "0  The Premier League sells its television rights...  \n",
       "1  Between the third and fourth sessions the pope...  \n",
       "2  Gautama first went to study with famous religi...  \n",
       "3  The band, now revitalised by the response to L...  \n",
       "4  After Nasser died in November 1970, his succes...  "
      ]
     },
     "execution_count": 6,
     "metadata": {},
     "output_type": "execute_result"
    }
   ],
   "source": [
    "documents = (\n",
    "    dataset\n",
    "    .loc[:, [\"context_id\", \"context\"]]\n",
    "    .drop_duplicates()\n",
    "    .rename(columns={\"context_id\": \"document_id\", \"context\": \"document_content\"})\n",
    ")\n",
    "print(\"Total number of unique documents: \", len(documents))\n",
    "documents.head()"
   ]
  },
  {
   "cell_type": "code",
   "execution_count": 7,
   "metadata": {},
   "outputs": [],
   "source": [
    "documents_path = data_path / DOCUMENTS_FILENAME\n",
    "documents.to_csv(documents_path, index=False)"
   ]
  },
  {
   "attachments": {},
   "cell_type": "markdown",
   "metadata": {},
   "source": [
    "## Split into training and test set"
   ]
  },
  {
   "cell_type": "code",
   "execution_count": 8,
   "metadata": {},
   "outputs": [
    {
     "data": {
      "text/plain": [
       "(12761,)"
      ]
     },
     "execution_count": 8,
     "metadata": {},
     "output_type": "execute_result"
    }
   ],
   "source": [
    "unique_context_ids = dataset.context_id.unique()\n",
    "unique_context_ids.shape"
   ]
  },
  {
   "cell_type": "code",
   "execution_count": 9,
   "metadata": {},
   "outputs": [
    {
     "name": "stdout",
     "output_type": "stream",
     "text": [
      "(10208,) (2553,)\n",
      "(16035, 4) (3953, 4)\n"
     ]
    }
   ],
   "source": [
    "train_ids, test_ids = train_test_split(unique_context_ids, random_state=0, test_size=0.2)\n",
    "print(train_ids.shape, test_ids.shape)\n",
    "\n",
    "train_data = dataset[dataset.context_id.isin(train_ids)]\n",
    "test_data = dataset[dataset.context_id.isin(test_ids)]\n",
    "\n",
    "print(train_data.shape, test_data.shape)"
   ]
  },
  {
   "cell_type": "code",
   "execution_count": 10,
   "metadata": {},
   "outputs": [
    {
     "data": {
      "text/plain": [
       "0"
      ]
     },
     "execution_count": 10,
     "metadata": {},
     "output_type": "execute_result"
    }
   ],
   "source": [
    "# Intersection between contexts of train and test set should be 0!\n",
    "len(set(test_data.context_id.unique().tolist()).intersection(set(train_data.context_id.unique().tolist())))"
   ]
  },
  {
   "cell_type": "code",
   "execution_count": 11,
   "metadata": {},
   "outputs": [
    {
     "data": {
      "text/html": [
       "<div>\n",
       "<style scoped>\n",
       "    .dataframe tbody tr th:only-of-type {\n",
       "        vertical-align: middle;\n",
       "    }\n",
       "\n",
       "    .dataframe tbody tr th {\n",
       "        vertical-align: top;\n",
       "    }\n",
       "\n",
       "    .dataframe thead th {\n",
       "        text-align: right;\n",
       "    }\n",
       "</style>\n",
       "<table border=\"1\" class=\"dataframe\">\n",
       "  <thead>\n",
       "    <tr style=\"text-align: right;\">\n",
       "      <th></th>\n",
       "      <th>question</th>\n",
       "      <th>context</th>\n",
       "      <th>question_id</th>\n",
       "      <th>context_id</th>\n",
       "    </tr>\n",
       "  </thead>\n",
       "  <tbody>\n",
       "    <tr>\n",
       "      <th>0</th>\n",
       "      <td>Do European Leagues sell their television righ...</td>\n",
       "      <td>The Premier League sells its television rights...</td>\n",
       "      <td>c3d337ab68dfd285f559ebc0daf65125</td>\n",
       "      <td>98d6e3c8d58561cff931f63fb4e64c1c</td>\n",
       "    </tr>\n",
       "    <tr>\n",
       "      <th>1</th>\n",
       "      <td>What does the Catholic church considered \"mixe...</td>\n",
       "      <td>Between the third and fourth sessions the pope...</td>\n",
       "      <td>b03fc4a34dda7d1cfb4e9640aec30d39</td>\n",
       "      <td>4bcb9c7951bfad7dc475dc0a8364b86d</td>\n",
       "    </tr>\n",
       "    <tr>\n",
       "      <th>2</th>\n",
       "      <td>What are some of the practices Gautama underwe...</td>\n",
       "      <td>Gautama first went to study with famous religi...</td>\n",
       "      <td>12397967175462937d614d633fb6a8b0</td>\n",
       "      <td>70e382792af20b3772cce2520b45da5e</td>\n",
       "    </tr>\n",
       "    <tr>\n",
       "      <th>3</th>\n",
       "      <td>How many band members wrote Queen's One Vision?</td>\n",
       "      <td>The band, now revitalised by the response to L...</td>\n",
       "      <td>77307b73836b34d59721596af121cd2f</td>\n",
       "      <td>5e450e68f649328e03bace871b873fee</td>\n",
       "    </tr>\n",
       "    <tr>\n",
       "      <th>4</th>\n",
       "      <td>When did the federation have to be implemented...</td>\n",
       "      <td>After Nasser died in November 1970, his succes...</td>\n",
       "      <td>1a6850f01a96afabb91c24cdb3edcdee</td>\n",
       "      <td>0409ff54cef43157e6e7c88803e8590a</td>\n",
       "    </tr>\n",
       "  </tbody>\n",
       "</table>\n",
       "</div>"
      ],
      "text/plain": [
       "                                            question  \\\n",
       "0  Do European Leagues sell their television righ...   \n",
       "1  What does the Catholic church considered \"mixe...   \n",
       "2  What are some of the practices Gautama underwe...   \n",
       "3    How many band members wrote Queen's One Vision?   \n",
       "4  When did the federation have to be implemented...   \n",
       "\n",
       "                                             context  \\\n",
       "0  The Premier League sells its television rights...   \n",
       "1  Between the third and fourth sessions the pope...   \n",
       "2  Gautama first went to study with famous religi...   \n",
       "3  The band, now revitalised by the response to L...   \n",
       "4  After Nasser died in November 1970, his succes...   \n",
       "\n",
       "                        question_id                        context_id  \n",
       "0  c3d337ab68dfd285f559ebc0daf65125  98d6e3c8d58561cff931f63fb4e64c1c  \n",
       "1  b03fc4a34dda7d1cfb4e9640aec30d39  4bcb9c7951bfad7dc475dc0a8364b86d  \n",
       "2  12397967175462937d614d633fb6a8b0  70e382792af20b3772cce2520b45da5e  \n",
       "3  77307b73836b34d59721596af121cd2f  5e450e68f649328e03bace871b873fee  \n",
       "4  1a6850f01a96afabb91c24cdb3edcdee  0409ff54cef43157e6e7c88803e8590a  "
      ]
     },
     "execution_count": 11,
     "metadata": {},
     "output_type": "execute_result"
    }
   ],
   "source": [
    "train_data.head()"
   ]
  },
  {
   "cell_type": "code",
   "execution_count": 12,
   "metadata": {},
   "outputs": [
    {
     "data": {
      "text/html": [
       "<div>\n",
       "<style scoped>\n",
       "    .dataframe tbody tr th:only-of-type {\n",
       "        vertical-align: middle;\n",
       "    }\n",
       "\n",
       "    .dataframe tbody tr th {\n",
       "        vertical-align: top;\n",
       "    }\n",
       "\n",
       "    .dataframe thead th {\n",
       "        text-align: right;\n",
       "    }\n",
       "</style>\n",
       "<table border=\"1\" class=\"dataframe\">\n",
       "  <thead>\n",
       "    <tr style=\"text-align: right;\">\n",
       "      <th></th>\n",
       "      <th>question</th>\n",
       "      <th>context</th>\n",
       "      <th>question_id</th>\n",
       "      <th>context_id</th>\n",
       "    </tr>\n",
       "  </thead>\n",
       "  <tbody>\n",
       "    <tr>\n",
       "      <th>9</th>\n",
       "      <td>Which Japanese carrier survived the first wave...</td>\n",
       "      <td>With the Japanese CAP out of position and the ...</td>\n",
       "      <td>00d9f4e0b8a0c4654bc202f7be8cb243</td>\n",
       "      <td>05bb76ec5fcf0a6b793b5bf3607fdbb9</td>\n",
       "    </tr>\n",
       "    <tr>\n",
       "      <th>14</th>\n",
       "      <td>What are anarchists not against?</td>\n",
       "      <td>Anarchists are against the State but are not a...</td>\n",
       "      <td>9ec4aab7fcf6a247539c9f1e3094f37b</td>\n",
       "      <td>15f04e0814d60718a465c034077269dd</td>\n",
       "    </tr>\n",
       "    <tr>\n",
       "      <th>16</th>\n",
       "      <td>How did troops react to the missile?</td>\n",
       "      <td>On 1 May, The Sun claimed to have 'sponsored' ...</td>\n",
       "      <td>d1d6e5c2409d498f00c690e14669e5d0</td>\n",
       "      <td>23d120965eaf2a679c23d7d88eb3fe1a</td>\n",
       "    </tr>\n",
       "    <tr>\n",
       "      <th>18</th>\n",
       "      <td>Who primarily occupies the complexes surroundi...</td>\n",
       "      <td>Ann Arbor's residential neighborhoods contain ...</td>\n",
       "      <td>6e99378749ee466ce63713c931d3f740</td>\n",
       "      <td>eb70588ed7264bcd249d6705e1b90547</td>\n",
       "    </tr>\n",
       "    <tr>\n",
       "      <th>33</th>\n",
       "      <td>Does God have a gender?</td>\n",
       "      <td>In monotheism and henotheism, God is conceived...</td>\n",
       "      <td>e6908fed63cb1c828f422793452a5806</td>\n",
       "      <td>1d644948160ff5feb5f6bfae66d8525e</td>\n",
       "    </tr>\n",
       "  </tbody>\n",
       "</table>\n",
       "</div>"
      ],
      "text/plain": [
       "                                             question  \\\n",
       "9   Which Japanese carrier survived the first wave...   \n",
       "14                   What are anarchists not against?   \n",
       "16               How did troops react to the missile?   \n",
       "18  Who primarily occupies the complexes surroundi...   \n",
       "33                            Does God have a gender?   \n",
       "\n",
       "                                              context  \\\n",
       "9   With the Japanese CAP out of position and the ...   \n",
       "14  Anarchists are against the State but are not a...   \n",
       "16  On 1 May, The Sun claimed to have 'sponsored' ...   \n",
       "18  Ann Arbor's residential neighborhoods contain ...   \n",
       "33  In monotheism and henotheism, God is conceived...   \n",
       "\n",
       "                         question_id                        context_id  \n",
       "9   00d9f4e0b8a0c4654bc202f7be8cb243  05bb76ec5fcf0a6b793b5bf3607fdbb9  \n",
       "14  9ec4aab7fcf6a247539c9f1e3094f37b  15f04e0814d60718a465c034077269dd  \n",
       "16  d1d6e5c2409d498f00c690e14669e5d0  23d120965eaf2a679c23d7d88eb3fe1a  \n",
       "18  6e99378749ee466ce63713c931d3f740  eb70588ed7264bcd249d6705e1b90547  \n",
       "33  e6908fed63cb1c828f422793452a5806  1d644948160ff5feb5f6bfae66d8525e  "
      ]
     },
     "execution_count": 12,
     "metadata": {},
     "output_type": "execute_result"
    }
   ],
   "source": [
    "test_data.head()"
   ]
  },
  {
   "attachments": {},
   "cell_type": "markdown",
   "metadata": {},
   "source": [
    "## Save training and test sets"
   ]
  },
  {
   "cell_type": "code",
   "execution_count": 13,
   "metadata": {},
   "outputs": [],
   "source": [
    "train_set_path = data_path / TRAIN_DATASET_PATH\n",
    "train_data.to_csv(train_set_path, index=False)"
   ]
  },
  {
   "cell_type": "code",
   "execution_count": 14,
   "metadata": {},
   "outputs": [],
   "source": [
    "test_set_path = data_path / TEST_DATASET_PATH\n",
    "test_data.to_csv(test_set_path, index=False)"
   ]
  }
 ],
 "metadata": {
  "kernelspec": {
   "display_name": "deus-use-case",
   "language": "python",
   "name": "python3"
  },
  "language_info": {
   "codemirror_mode": {
    "name": "ipython",
    "version": 3
   },
   "file_extension": ".py",
   "mimetype": "text/x-python",
   "name": "python",
   "nbconvert_exporter": "python",
   "pygments_lexer": "ipython3",
   "version": "3.9.16"
  },
  "orig_nbformat": 4
 },
 "nbformat": 4,
 "nbformat_minor": 2
}
