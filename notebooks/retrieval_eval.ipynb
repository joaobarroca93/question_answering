{
 "cells": [
  {
   "cell_type": "code",
   "execution_count": 1,
   "metadata": {},
   "outputs": [],
   "source": [
    "import pandas as pd\n",
    "from pathlib import Path"
   ]
  },
  {
   "cell_type": "code",
   "execution_count": 2,
   "metadata": {},
   "outputs": [],
   "source": [
    "data_path = Path.cwd().resolve().absolute().parent / \"data\"\n",
    "documents_filepath = data_path / \"documents.csv\"\n",
    "test_data_filepath = data_path / \"test_query_context_pairs.csv\""
   ]
  },
  {
   "cell_type": "code",
   "execution_count": 3,
   "metadata": {},
   "outputs": [],
   "source": [
    "TOP_K = 6"
   ]
  },
  {
   "attachments": {},
   "cell_type": "markdown",
   "metadata": {},
   "source": [
    "## Load the test data"
   ]
  },
  {
   "cell_type": "code",
   "execution_count": 4,
   "metadata": {},
   "outputs": [
    {
     "data": {
      "text/html": [
       "<div>\n",
       "<style scoped>\n",
       "    .dataframe tbody tr th:only-of-type {\n",
       "        vertical-align: middle;\n",
       "    }\n",
       "\n",
       "    .dataframe tbody tr th {\n",
       "        vertical-align: top;\n",
       "    }\n",
       "\n",
       "    .dataframe thead th {\n",
       "        text-align: right;\n",
       "    }\n",
       "</style>\n",
       "<table border=\"1\" class=\"dataframe\">\n",
       "  <thead>\n",
       "    <tr style=\"text-align: right;\">\n",
       "      <th></th>\n",
       "      <th>question</th>\n",
       "      <th>context</th>\n",
       "      <th>question_id</th>\n",
       "      <th>context_id</th>\n",
       "    </tr>\n",
       "  </thead>\n",
       "  <tbody>\n",
       "    <tr>\n",
       "      <th>0</th>\n",
       "      <td>Which Japanese carrier survived the first wave...</td>\n",
       "      <td>With the Japanese CAP out of position and the ...</td>\n",
       "      <td>00d9f4e0b8a0c4654bc202f7be8cb243</td>\n",
       "      <td>05bb76ec5fcf0a6b793b5bf3607fdbb9</td>\n",
       "    </tr>\n",
       "    <tr>\n",
       "      <th>1</th>\n",
       "      <td>What are anarchists not against?</td>\n",
       "      <td>Anarchists are against the State but are not a...</td>\n",
       "      <td>9ec4aab7fcf6a247539c9f1e3094f37b</td>\n",
       "      <td>15f04e0814d60718a465c034077269dd</td>\n",
       "    </tr>\n",
       "    <tr>\n",
       "      <th>2</th>\n",
       "      <td>How did troops react to the missile?</td>\n",
       "      <td>On 1 May, The Sun claimed to have 'sponsored' ...</td>\n",
       "      <td>d1d6e5c2409d498f00c690e14669e5d0</td>\n",
       "      <td>23d120965eaf2a679c23d7d88eb3fe1a</td>\n",
       "    </tr>\n",
       "    <tr>\n",
       "      <th>3</th>\n",
       "      <td>Who primarily occupies the complexes surroundi...</td>\n",
       "      <td>Ann Arbor's residential neighborhoods contain ...</td>\n",
       "      <td>6e99378749ee466ce63713c931d3f740</td>\n",
       "      <td>eb70588ed7264bcd249d6705e1b90547</td>\n",
       "    </tr>\n",
       "    <tr>\n",
       "      <th>4</th>\n",
       "      <td>Does God have a gender?</td>\n",
       "      <td>In monotheism and henotheism, God is conceived...</td>\n",
       "      <td>e6908fed63cb1c828f422793452a5806</td>\n",
       "      <td>1d644948160ff5feb5f6bfae66d8525e</td>\n",
       "    </tr>\n",
       "    <tr>\n",
       "      <th>...</th>\n",
       "      <td>...</td>\n",
       "      <td>...</td>\n",
       "      <td>...</td>\n",
       "      <td>...</td>\n",
       "    </tr>\n",
       "    <tr>\n",
       "      <th>3948</th>\n",
       "      <td>What percent of the GDP was spent on health?</td>\n",
       "      <td>Despite repeated efforts by the Tajik governme...</td>\n",
       "      <td>2e9b3ababee633b342a5caa2740d456d</td>\n",
       "      <td>6ba7a5fb7bed5afb82e70a427d0111eb</td>\n",
       "    </tr>\n",
       "    <tr>\n",
       "      <th>3949</th>\n",
       "      <td>During what time did cotton become widely used...</td>\n",
       "      <td>The earliest evidence of cotton use in South A...</td>\n",
       "      <td>9111bdc85cb44e518f467e302e617473</td>\n",
       "      <td>72f0f5f533a36ccb4bff1c043971b38f</td>\n",
       "    </tr>\n",
       "    <tr>\n",
       "      <th>3950</th>\n",
       "      <td>What legends show the importance of the propri...</td>\n",
       "      <td>In most parts of medieval Europe, the upper cl...</td>\n",
       "      <td>ef07514867301df64dc26a44d656aa7d</td>\n",
       "      <td>ef91a3c8fc57d80a8df4352ca375af8b</td>\n",
       "    </tr>\n",
       "    <tr>\n",
       "      <th>3951</th>\n",
       "      <td>What is its longest river?</td>\n",
       "      <td>Galicia is poetically known as the \"country of...</td>\n",
       "      <td>323a472ab4577d5267630b452529c7cd</td>\n",
       "      <td>7f7a0127db2528c8b2bd89566f1f9d07</td>\n",
       "    </tr>\n",
       "    <tr>\n",
       "      <th>3952</th>\n",
       "      <td>When did the three judge panel make their ruling?</td>\n",
       "      <td>In 2002, a three judge panel on the Ninth Circ...</td>\n",
       "      <td>afaaa588d7c0effe8087b1a2c05f693a</td>\n",
       "      <td>8accc18c3bfc1759c5770a85a2e31186</td>\n",
       "    </tr>\n",
       "  </tbody>\n",
       "</table>\n",
       "<p>3953 rows × 4 columns</p>\n",
       "</div>"
      ],
      "text/plain": [
       "                                               question  \\\n",
       "0     Which Japanese carrier survived the first wave...   \n",
       "1                      What are anarchists not against?   \n",
       "2                  How did troops react to the missile?   \n",
       "3     Who primarily occupies the complexes surroundi...   \n",
       "4                               Does God have a gender?   \n",
       "...                                                 ...   \n",
       "3948       What percent of the GDP was spent on health?   \n",
       "3949  During what time did cotton become widely used...   \n",
       "3950  What legends show the importance of the propri...   \n",
       "3951                         What is its longest river?   \n",
       "3952  When did the three judge panel make their ruling?   \n",
       "\n",
       "                                                context  \\\n",
       "0     With the Japanese CAP out of position and the ...   \n",
       "1     Anarchists are against the State but are not a...   \n",
       "2     On 1 May, The Sun claimed to have 'sponsored' ...   \n",
       "3     Ann Arbor's residential neighborhoods contain ...   \n",
       "4     In monotheism and henotheism, God is conceived...   \n",
       "...                                                 ...   \n",
       "3948  Despite repeated efforts by the Tajik governme...   \n",
       "3949  The earliest evidence of cotton use in South A...   \n",
       "3950  In most parts of medieval Europe, the upper cl...   \n",
       "3951  Galicia is poetically known as the \"country of...   \n",
       "3952  In 2002, a three judge panel on the Ninth Circ...   \n",
       "\n",
       "                           question_id                        context_id  \n",
       "0     00d9f4e0b8a0c4654bc202f7be8cb243  05bb76ec5fcf0a6b793b5bf3607fdbb9  \n",
       "1     9ec4aab7fcf6a247539c9f1e3094f37b  15f04e0814d60718a465c034077269dd  \n",
       "2     d1d6e5c2409d498f00c690e14669e5d0  23d120965eaf2a679c23d7d88eb3fe1a  \n",
       "3     6e99378749ee466ce63713c931d3f740  eb70588ed7264bcd249d6705e1b90547  \n",
       "4     e6908fed63cb1c828f422793452a5806  1d644948160ff5feb5f6bfae66d8525e  \n",
       "...                                ...                               ...  \n",
       "3948  2e9b3ababee633b342a5caa2740d456d  6ba7a5fb7bed5afb82e70a427d0111eb  \n",
       "3949  9111bdc85cb44e518f467e302e617473  72f0f5f533a36ccb4bff1c043971b38f  \n",
       "3950  ef07514867301df64dc26a44d656aa7d  ef91a3c8fc57d80a8df4352ca375af8b  \n",
       "3951  323a472ab4577d5267630b452529c7cd  7f7a0127db2528c8b2bd89566f1f9d07  \n",
       "3952  afaaa588d7c0effe8087b1a2c05f693a  8accc18c3bfc1759c5770a85a2e31186  \n",
       "\n",
       "[3953 rows x 4 columns]"
      ]
     },
     "execution_count": 4,
     "metadata": {},
     "output_type": "execute_result"
    }
   ],
   "source": [
    "test_data = pd.read_csv(test_data_filepath)\n",
    "test_data"
   ]
  },
  {
   "attachments": {},
   "cell_type": "markdown",
   "metadata": {},
   "source": [
    "## Prepare the data for evaluation"
   ]
  },
  {
   "cell_type": "code",
   "execution_count": 5,
   "metadata": {},
   "outputs": [
    {
     "data": {
      "text/plain": [
       "3953"
      ]
     },
     "execution_count": 5,
     "metadata": {},
     "output_type": "execute_result"
    }
   ],
   "source": [
    "df = test_data.groupby(\"question_id\").agg({\"context_id\": list}).reset_index()\n",
    "test_set = {}\n",
    "for _, row in df.iterrows():\n",
    "    test_set[row[\"question_id\"]] = [\n",
    "        (context_id, 1)\n",
    "        for context_id in row[\"context_id\"]\n",
    "    ]\n",
    "len(test_set)"
   ]
  },
  {
   "attachments": {},
   "cell_type": "markdown",
   "metadata": {},
   "source": [
    "## Prepare the metrics"
   ]
  },
  {
   "cell_type": "code",
   "execution_count": 6,
   "metadata": {},
   "outputs": [],
   "source": [
    "from src.metrics import RankMetrics\n",
    "\n",
    "metrics = RankMetrics()"
   ]
  },
  {
   "attachments": {},
   "cell_type": "markdown",
   "metadata": {},
   "source": [
    "## Random Retriever"
   ]
  },
  {
   "cell_type": "code",
   "execution_count": 7,
   "metadata": {},
   "outputs": [
    {
     "name": "stderr",
     "output_type": "stream",
     "text": [
      "[nltk_data] Downloading package punkt to\n",
      "[nltk_data]     /Users/joao.barroca/nltk_data...\n",
      "[nltk_data]   Package punkt is already up-to-date!\n",
      "[nltk_data] Downloading package stopwords to\n",
      "[nltk_data]     /Users/joao.barroca/nltk_data...\n",
      "[nltk_data]   Package stopwords is already up-to-date!\n"
     ]
    }
   ],
   "source": [
    "from src.indexer import DatabaseIndexer\n",
    "from src.retriever import RandomRetriever\n",
    "from src.clients import InMemoryDatabaseClient\n",
    "from src.repositories import CsvDocumentsRepository\n",
    "\n",
    "documents_repository = CsvDocumentsRepository(\n",
    "    path=documents_filepath,\n",
    "    document_id_column=\"document_id\",\n",
    "    document_content_column=\"document_content\"\n",
    ")\n",
    "\n",
    "in_memory_db_client = InMemoryDatabaseClient()\n",
    "\n",
    "db_indexer = DatabaseIndexer(client=in_memory_db_client)\n",
    "\n",
    "random_retriever = RandomRetriever(client=in_memory_db_client, random_state=42)"
   ]
  },
  {
   "attachments": {},
   "cell_type": "markdown",
   "metadata": {},
   "source": [
    "### Index documents"
   ]
  },
  {
   "cell_type": "code",
   "execution_count": 8,
   "metadata": {},
   "outputs": [],
   "source": [
    "docs = documents_repository.get_all()\n",
    "db_indexer.index(docs)"
   ]
  },
  {
   "attachments": {},
   "cell_type": "markdown",
   "metadata": {},
   "source": [
    "### Run retrieval"
   ]
  },
  {
   "cell_type": "code",
   "execution_count": 9,
   "metadata": {},
   "outputs": [
    {
     "data": {
      "text/plain": [
       "3953"
      ]
     },
     "execution_count": 9,
     "metadata": {},
     "output_type": "execute_result"
    }
   ],
   "source": [
    "predictions = {}\n",
    "for query_id in test_set.keys():\n",
    "    results = random_retriever.retrieve(query=\"dummy\", k=TOP_K)\n",
    "    predictions[query_id] = [\n",
    "        (result.document.id, result.relevance)\n",
    "        for result in results\n",
    "    ]\n",
    "len(predictions)"
   ]
  },
  {
   "attachments": {},
   "cell_type": "markdown",
   "metadata": {},
   "source": [
    "### Get metrics"
   ]
  },
  {
   "cell_type": "code",
   "execution_count": 10,
   "metadata": {},
   "outputs": [
    {
     "data": {
      "text/plain": [
       "{'map@6': 0.00025297242600556537,\n",
       " 'mrr@6': 0.00025297242600556537,\n",
       " 'ndcg@6': 0.00037750641783917114}"
      ]
     },
     "execution_count": 10,
     "metadata": {},
     "output_type": "execute_result"
    }
   ],
   "source": [
    "metrics.compute_metrics(ground_truth=test_set, predictions=predictions, top_k=TOP_K)"
   ]
  },
  {
   "attachments": {},
   "cell_type": "markdown",
   "metadata": {},
   "source": [
    "## Vector Search Retriever + Random Encoder"
   ]
  },
  {
   "cell_type": "code",
   "execution_count": 7,
   "metadata": {},
   "outputs": [
    {
     "name": "stderr",
     "output_type": "stream",
     "text": [
      "[nltk_data] Downloading package punkt to\n",
      "[nltk_data]     /Users/joao.barroca/nltk_data...\n",
      "[nltk_data]   Package punkt is already up-to-date!\n",
      "[nltk_data] Downloading package stopwords to\n",
      "[nltk_data]     /Users/joao.barroca/nltk_data...\n",
      "[nltk_data]   Package stopwords is already up-to-date!\n"
     ]
    }
   ],
   "source": [
    "from src.indexer import DatabaseIndexer\n",
    "from src.retriever import VectorSearchRetriever\n",
    "from src.clients import ChromaDatabaseClient\n",
    "from src.encoders import RandomEncoder\n",
    "from src.repositories import CsvDocumentsRepository\n",
    "\n",
    "documents_repository = CsvDocumentsRepository(\n",
    "    path=documents_filepath,\n",
    "    document_id_column=\"document_id\",\n",
    "    document_content_column=\"document_content\"\n",
    ")\n",
    "\n",
    "random_encoder = RandomEncoder(embedding_dim=16, random_state=42)\n",
    "\n",
    "vector_db_client = ChromaDatabaseClient(collection_name=\"open_domain\")\n",
    "\n",
    "db_indexer = DatabaseIndexer(client=vector_db_client, encoder=random_encoder)\n",
    "\n",
    "random_vector_search_retriever = VectorSearchRetriever(client=vector_db_client, encoder=random_encoder)"
   ]
  },
  {
   "attachments": {},
   "cell_type": "markdown",
   "metadata": {},
   "source": [
    "### Index documents"
   ]
  },
  {
   "cell_type": "code",
   "execution_count": 8,
   "metadata": {},
   "outputs": [],
   "source": [
    "docs = documents_repository.get_all()\n",
    "db_indexer.index(docs)"
   ]
  },
  {
   "attachments": {},
   "cell_type": "markdown",
   "metadata": {},
   "source": [
    "### Run retrieval"
   ]
  },
  {
   "cell_type": "code",
   "execution_count": 9,
   "metadata": {},
   "outputs": [
    {
     "data": {
      "text/plain": [
       "3953"
      ]
     },
     "execution_count": 9,
     "metadata": {},
     "output_type": "execute_result"
    }
   ],
   "source": [
    "query_mapper = {}\n",
    "for _, row in test_data.iterrows():\n",
    "    query_mapper[row[\"question_id\"]] = row[\"question\"]\n",
    "len(query_mapper)"
   ]
  },
  {
   "cell_type": "code",
   "execution_count": 10,
   "metadata": {},
   "outputs": [
    {
     "data": {
      "text/plain": [
       "3953"
      ]
     },
     "execution_count": 10,
     "metadata": {},
     "output_type": "execute_result"
    }
   ],
   "source": [
    "predictions = {}\n",
    "for query_id in test_set.keys():\n",
    "    query = query_mapper[query_id]\n",
    "    results = random_vector_search_retriever.retrieve(query=query, k=TOP_K)\n",
    "    predictions[query_id] = [\n",
    "        (result.document.id, result.relevance)\n",
    "        for result in results\n",
    "    ]\n",
    "len(predictions)"
   ]
  },
  {
   "attachments": {},
   "cell_type": "markdown",
   "metadata": {},
   "source": [
    "### Get metrics"
   ]
  },
  {
   "cell_type": "code",
   "execution_count": 11,
   "metadata": {},
   "outputs": [
    {
     "data": {
      "text/plain": [
       "{'map@6': 0.000674593136014841,\n",
       " 'mrr@6': 0.000674593136014841,\n",
       " 'ndcg@6': 0.0007556632786945307}"
      ]
     },
     "execution_count": 11,
     "metadata": {},
     "output_type": "execute_result"
    }
   ],
   "source": [
    "metrics.compute_metrics(ground_truth=test_set, predictions=predictions, top_k=TOP_K)"
   ]
  },
  {
   "attachments": {},
   "cell_type": "markdown",
   "metadata": {},
   "source": [
    "## Vector Search Retriever + TF-IDF Encoder"
   ]
  },
  {
   "cell_type": "code",
   "execution_count": 7,
   "metadata": {},
   "outputs": [
    {
     "name": "stderr",
     "output_type": "stream",
     "text": [
      "[nltk_data] Downloading package punkt to\n",
      "[nltk_data]     /Users/joao.barroca/nltk_data...\n",
      "[nltk_data]   Package punkt is already up-to-date!\n",
      "[nltk_data] Downloading package stopwords to\n",
      "[nltk_data]     /Users/joao.barroca/nltk_data...\n",
      "[nltk_data]   Package stopwords is already up-to-date!\n"
     ]
    }
   ],
   "source": [
    "from src.indexer import DatabaseIndexer\n",
    "from src.retriever import VectorSearchRetriever\n",
    "from src.clients import ChromaDatabaseClient\n",
    "from src.encoders import TfIdfEncoder\n",
    "from src.processors import TextProcessor\n",
    "from src.repositories import CsvDocumentsRepository\n",
    "\n",
    "documents_repository = CsvDocumentsRepository(\n",
    "    path=documents_filepath,\n",
    "    document_id_column=\"document_id\",\n",
    "    document_content_column=\"document_content\"\n",
    ")\n",
    "\n",
    "text_processor = TextProcessor()\n",
    "\n",
    "tf_idf_encoder = TfIdfEncoder(\n",
    "    model_filepath=\"/Users/joao.barroca/Desktop/projects/deus-use-case/models/encoders/tf-idf-encoder.joblib\",\n",
    "    text_processor=text_processor,\n",
    ")\n",
    "\n",
    "vector_db_client = ChromaDatabaseClient(collection_name=\"open_domain\")\n",
    "\n",
    "db_indexer = DatabaseIndexer(client=vector_db_client, encoder=tf_idf_encoder)\n",
    "\n",
    "tf_idf_retriever = VectorSearchRetriever(client=vector_db_client, encoder=tf_idf_encoder)"
   ]
  },
  {
   "cell_type": "markdown",
   "metadata": {},
   "source": [
    "### Index documents"
   ]
  },
  {
   "cell_type": "code",
   "execution_count": 8,
   "metadata": {},
   "outputs": [],
   "source": [
    "docs = documents_repository.get_all()\n",
    "db_indexer.index(docs)"
   ]
  },
  {
   "cell_type": "markdown",
   "metadata": {},
   "source": [
    "### Run retrieval"
   ]
  },
  {
   "cell_type": "code",
   "execution_count": 9,
   "metadata": {},
   "outputs": [
    {
     "data": {
      "text/plain": [
       "3953"
      ]
     },
     "execution_count": 9,
     "metadata": {},
     "output_type": "execute_result"
    }
   ],
   "source": [
    "query_mapper = {}\n",
    "for _, row in test_data.iterrows():\n",
    "    query_mapper[row[\"question_id\"]] = row[\"question\"]\n",
    "len(query_mapper)"
   ]
  },
  {
   "cell_type": "code",
   "execution_count": 10,
   "metadata": {},
   "outputs": [
    {
     "data": {
      "text/plain": [
       "3953"
      ]
     },
     "execution_count": 10,
     "metadata": {},
     "output_type": "execute_result"
    }
   ],
   "source": [
    "queries = [query_mapper[query_id] for query_id in test_set.keys()]\n",
    "batch_results = tf_idf_retriever.batch_retrieve(queries=queries, k=TOP_K)\n",
    "\n",
    "predictions = {}\n",
    "for query_id, results in zip(test_set.keys(), batch_results):\n",
    "    predictions[query_id] = [\n",
    "        (result.document.id, result.relevance)\n",
    "        for result in results\n",
    "    ]\n",
    "len(predictions)"
   ]
  },
  {
   "cell_type": "markdown",
   "metadata": {},
   "source": [
    "### Get metrics"
   ]
  },
  {
   "cell_type": "code",
   "execution_count": 23,
   "metadata": {},
   "outputs": [
    {
     "data": {
      "text/plain": [
       "{'map@6': 0.2013449700649296,\n",
       " 'mrr@6': 0.2013449700649296,\n",
       " 'ndcg@6': 0.22658679706296206}"
      ]
     },
     "execution_count": 23,
     "metadata": {},
     "output_type": "execute_result"
    }
   ],
   "source": [
    "metrics.compute_metrics(ground_truth=test_set, predictions=predictions, top_k=TOP_K)"
   ]
  },
  {
   "cell_type": "markdown",
   "metadata": {},
   "source": [
    "## Vector Search Retriever + Sentence-Transformer Encoder"
   ]
  },
  {
   "cell_type": "code",
   "execution_count": 7,
   "metadata": {},
   "outputs": [
    {
     "name": "stderr",
     "output_type": "stream",
     "text": [
      "[nltk_data] Downloading package punkt to\n",
      "[nltk_data]     /Users/joao.barroca/nltk_data...\n",
      "[nltk_data]   Package punkt is already up-to-date!\n",
      "[nltk_data] Downloading package stopwords to\n",
      "[nltk_data]     /Users/joao.barroca/nltk_data...\n",
      "[nltk_data]   Package stopwords is already up-to-date!\n",
      "/Users/joao.barroca/.pyenv/versions/3.9.16/envs/deus-use-case/lib/python3.9/site-packages/tqdm/auto.py:21: TqdmWarning: IProgress not found. Please update jupyter and ipywidgets. See https://ipywidgets.readthedocs.io/en/stable/user_install.html\n",
      "  from .autonotebook import tqdm as notebook_tqdm\n"
     ]
    }
   ],
   "source": [
    "from src.indexer import DatabaseIndexer\n",
    "from src.retriever import VectorSearchRetriever\n",
    "from src.clients import ChromaDatabaseClient\n",
    "from src.encoders import SentenceTransformersEncoder\n",
    "from src.repositories import CsvDocumentsRepository\n",
    "\n",
    "documents_repository = CsvDocumentsRepository(\n",
    "    path=documents_filepath,\n",
    "    document_id_column=\"document_id\",\n",
    "    document_content_column=\"document_content\"\n",
    ")\n",
    "\n",
    "st_encoder = SentenceTransformersEncoder(\n",
    "    model_filepath=\"/Users/joao.barroca/Desktop/projects/deus-use-case/models/encoders/sentence-transformers/mpnet-base-deus-v2\",\n",
    ")\n",
    "\n",
    "vector_db_client = ChromaDatabaseClient(collection_name=\"open_domain\")\n",
    "\n",
    "db_indexer = DatabaseIndexer(client=vector_db_client, encoder=st_encoder)\n",
    "\n",
    "st_retriever = VectorSearchRetriever(client=vector_db_client, encoder=st_encoder)"
   ]
  },
  {
   "cell_type": "markdown",
   "metadata": {},
   "source": [
    "### Index documents"
   ]
  },
  {
   "cell_type": "code",
   "execution_count": 8,
   "metadata": {},
   "outputs": [],
   "source": [
    "docs = documents_repository.get_all()\n",
    "db_indexer.index(docs)"
   ]
  },
  {
   "cell_type": "markdown",
   "metadata": {},
   "source": [
    "### Run retrieval"
   ]
  },
  {
   "cell_type": "code",
   "execution_count": 9,
   "metadata": {},
   "outputs": [
    {
     "data": {
      "text/plain": [
       "3953"
      ]
     },
     "execution_count": 9,
     "metadata": {},
     "output_type": "execute_result"
    }
   ],
   "source": [
    "query_mapper = {}\n",
    "for _, row in test_data.iterrows():\n",
    "    query_mapper[row[\"question_id\"]] = row[\"question\"]\n",
    "len(query_mapper)"
   ]
  },
  {
   "cell_type": "code",
   "execution_count": 10,
   "metadata": {},
   "outputs": [
    {
     "data": {
      "text/plain": [
       "3953"
      ]
     },
     "execution_count": 10,
     "metadata": {},
     "output_type": "execute_result"
    }
   ],
   "source": [
    "queries = [query_mapper[query_id] for query_id in test_set.keys()]\n",
    "batch_results = st_retriever.batch_retrieve(queries=queries, k=TOP_K)\n",
    "\n",
    "predictions = {}\n",
    "for query_id, results in zip(test_set.keys(), batch_results):\n",
    "    predictions[query_id] = [\n",
    "        (result.document.id, result.relevance)\n",
    "        for result in results\n",
    "    ]\n",
    "len(predictions)"
   ]
  },
  {
   "cell_type": "markdown",
   "metadata": {},
   "source": [
    "### Get metrics"
   ]
  },
  {
   "cell_type": "code",
   "execution_count": 11,
   "metadata": {},
   "outputs": [
    {
     "data": {
      "text/plain": [
       "{'map@6': 0.564322455519015,\n",
       " 'mrr@6': 0.564322455519015,\n",
       " 'ndcg@6': 0.6020025240200427}"
      ]
     },
     "execution_count": 11,
     "metadata": {},
     "output_type": "execute_result"
    }
   ],
   "source": [
    "metrics.compute_metrics(ground_truth=test_set, predictions=predictions, top_k=TOP_K)"
   ]
  },
  {
   "cell_type": "code",
   "execution_count": 65,
   "metadata": {},
   "outputs": [
    {
     "name": "stdout",
     "output_type": "stream",
     "text": [
      "Query:  What new name was given to Revue Productions in 1966?\n",
      "{'map@6': 0.5, 'mrr@6': 0.5, 'ndcg@6': 0.6309297535714575}\n",
      "[('c8a087f77d6abde08025355228fe54a6', 1)]\n",
      "('The long-awaited takeover of Universal Pictures by MCA, Inc. happened in '\n",
      " 'mid-1962 as part of the MCA-Decca Records merger. The company reverted in '\n",
      " 'name to Universal Pictures. As a final gesture before leaving the talent '\n",
      " 'agency business, virtually every MCA client was signed to a Universal '\n",
      " 'contract. In 1964 MCA formed Universal City Studios, Inc., merging the '\n",
      " 'motion pictures and television arms of Universal Pictures Company and Revue '\n",
      " 'Productions (officially renamed as Universal Television in 1966). And so, '\n",
      " 'with MCA in charge, Universal became a full-blown, A-film movie studio, with '\n",
      " 'leading actors and directors under contract; offering slick, commercial '\n",
      " 'films; and a studio tour subsidiary launched in 1964. Television production '\n",
      " \"made up much of the studio's output, with Universal heavily committed, in \"\n",
      " 'particular, to deals with NBC (which later merged with Universal to form NBC '\n",
      " 'Universal; see below) providing up to half of all prime time shows for '\n",
      " 'several seasons. An innovation during this period championed by Universal '\n",
      " 'was the made-for-television movie.')\n",
      "[('c6ed880aef1af2baad0da222e5badf86', 0.5305033326148987), ('c8a087f77d6abde08025355228fe54a6', 0.5009351372718811), ('3fdf99bd25b22761b493665e867686ca', 0.4388636350631714), ('2e58798298734a3cea84595075fca349', 0.4293156862258911), ('896cb7506902850d99563a9c22d5f1b0', 0.42221009731292725), ('767973cb398d85af0d41bec5e96e3c87', 0.4173945188522339)]\n",
      "('By the late 1950s, the motion picture business was again changing. The '\n",
      " 'combination of the studio/theater-chain break-up and the rise of television '\n",
      " 'saw the reduced audience size for cinema productions. The Music Corporation '\n",
      " 'of America (MCA), then predominately a talent agency, had also become a '\n",
      " 'powerful television producer, renting space at Republic Studios for its '\n",
      " 'Revue Productions subsidiary. After a period of complete shutdown, a '\n",
      " 'moribund Universal agreed to sell its 360-acre (1.5 km²) studio lot to MCA '\n",
      " 'in 1958, for $11 million, renamed Revue Studios. MCA owned the studio lot, '\n",
      " \"but not Universal Pictures, yet was increasingly influential on Universal's \"\n",
      " 'product. The studio lot was upgraded and modernized, while MCA clients like '\n",
      " 'Doris Day, Lana Turner, Cary Grant, and director Alfred Hitchcock were '\n",
      " 'signed to Universal Pictures contracts.')\n",
      "('The long-awaited takeover of Universal Pictures by MCA, Inc. happened in '\n",
      " 'mid-1962 as part of the MCA-Decca Records merger. The company reverted in '\n",
      " 'name to Universal Pictures. As a final gesture before leaving the talent '\n",
      " 'agency business, virtually every MCA client was signed to a Universal '\n",
      " 'contract. In 1964 MCA formed Universal City Studios, Inc., merging the '\n",
      " 'motion pictures and television arms of Universal Pictures Company and Revue '\n",
      " 'Productions (officially renamed as Universal Television in 1966). And so, '\n",
      " 'with MCA in charge, Universal became a full-blown, A-film movie studio, with '\n",
      " 'leading actors and directors under contract; offering slick, commercial '\n",
      " 'films; and a studio tour subsidiary launched in 1964. Television production '\n",
      " \"made up much of the studio's output, with Universal heavily committed, in \"\n",
      " 'particular, to deals with NBC (which later merged with Universal to form NBC '\n",
      " 'Universal; see below) providing up to half of all prime time shows for '\n",
      " 'several seasons. An innovation during this period championed by Universal '\n",
      " 'was the made-for-television movie.')\n",
      "('From earliest days, Virginia, and Richmond in particular, have welcomed live '\n",
      " \"theatrical performances. From Lewis Hallam's early productions of \"\n",
      " \"Shakespeare in Williamsburg, the focus shifted to Richmond's antebellum \"\n",
      " 'prominence as a main colonial and early 19th century performance venue for '\n",
      " 'such celebrated American and English actors as William Macready, Edwin '\n",
      " \"Forrest, and the Booth family. In the 20th century, Richmonders' love of \"\n",
      " 'theater continued with many amateur troupes and regular touring professional '\n",
      " 'productions. In the 1960s a small renaissance or golden age accompanied the '\n",
      " 'growth of professional dinner theaters and the fostering of theater by the '\n",
      " 'Virginia Museum, reaching a peak in the 1970s with the establishment of a '\n",
      " 'resident Equity company at the Virginia Museum Theater (now the Leslie '\n",
      " 'Cheek) and the birth of Theatre IV, a company that continues to this day.')\n",
      "('Though Decca would continue to keep picture budgets lean, it was favored by '\n",
      " 'changing circumstances in the film business, as other studios let their '\n",
      " 'contract actors go in the wake of the 1948 U.S. vs. Paramount Pictures, et '\n",
      " 'al. decision. Leading actors were increasingly free to work where and when '\n",
      " 'they chose, and in 1950 MCA agent Lew Wasserman made a deal with Universal '\n",
      " 'for his client James Stewart that would change the rules of the business. '\n",
      " \"Wasserman's deal gave Stewart a share in the profits of three pictures in \"\n",
      " \"lieu of a large salary. When one of those films, Winchester '73, proved to \"\n",
      " 'be a hit, the arrangement would become the rule for many future productions '\n",
      " 'at Universal, and eventually at other studios as well.')\n",
      "('Goodman, now disconnected from Marvel, set up a new company called Seaboard '\n",
      " \"Periodicals in 1974, reviving Marvel's old Atlas name for a new Atlas Comics \"\n",
      " 'line, but this lasted only a year and a half. In the mid-1970s a decline of '\n",
      " 'the newsstand distribution network affected Marvel. Cult hits such as Howard '\n",
      " 'the Duck fell victim to the distribution problems, with some titles '\n",
      " 'reporting low sales when in fact the first specialty comic book stores '\n",
      " 'resold them at a later date.[citation needed] But by the end of the decade, '\n",
      " \"Marvel's fortunes were reviving, thanks to the rise of direct market \"\n",
      " 'distribution—selling through those same comics-specialty stores instead of '\n",
      " 'newsstands.')\n",
      "('BBC Television returned on 7 June 1946 at 15:00. Jasmine Bligh, one of the '\n",
      " \"original announcers, made the first announcement, saying, 'Good afternoon \"\n",
      " \"everybody. How are you? Do you remember me, Jasmine Bligh?'. The Mickey \"\n",
      " 'Mouse cartoon of 1939 was repeated twenty minutes later.[unreliable source?] '\n",
      " 'Alexandra Palace was the home base of the channel until the early 1950s when '\n",
      " 'the majority of production moved into the newly acquired Lime Grove '\n",
      " 'Studios.[original research?]')\n"
     ]
    }
   ],
   "source": [
    "import random\n",
    "from pprint import pprint\n",
    "\n",
    "query_ids  = list(test_set.keys())\n",
    "docs_mapper = {doc.id: doc for doc in docs}\n",
    "\n",
    "query_id = random.choice(query_ids)\n",
    "print(\"Query: \", query_mapper[query_id])\n",
    "relevant_docs = test_set[query_id]\n",
    "retrieved_docs = predictions[query_id]\n",
    "print(\n",
    "    metrics.compute_metrics(\n",
    "        ground_truth={query_id: relevant_docs},\n",
    "        predictions={query_id: retrieved_docs},\n",
    "        top_k=6,\n",
    "    )\n",
    ")\n",
    "print(relevant_docs)\n",
    "for doc_id, _ in relevant_docs:\n",
    "    pprint(docs_mapper[doc_id].content)\n",
    "print(retrieved_docs)\n",
    "for doc_id, _ in retrieved_docs:\n",
    "    pprint(docs_mapper[doc_id].content)"
   ]
  },
  {
   "cell_type": "code",
   "execution_count": 46,
   "metadata": {},
   "outputs": [
    {
     "data": {
      "text/plain": [
       "((768,), (768,), (768,))"
      ]
     },
     "execution_count": 46,
     "metadata": {},
     "output_type": "execute_result"
    }
   ],
   "source": [
    "import numpy as np\n",
    "\n",
    "query = \"When was ZE's Mutant Disco released?\"\n",
    "doc_id = \"acf263c9a76c20354124f79e4ed5f7f7\"\n",
    "r_doc_id = \"b8861b923b9373375bc13d44ef4b0089\"\n",
    "\n",
    "query_vector = np.array(st_encoder.encode(query))\n",
    "doc_vector = np.array(st_encoder.encode(docs_mapper[doc_id].content))\n",
    "r_doc_vector = np.array(st_encoder.encode(docs_mapper[r_doc_id].content))\n",
    "print(query_vector.shape, doc_vector.shape, r_doc_vector.shape)\n",
    "\n",
    "query_vector.dot(doc_vector), query_vector.dot(r_doc_vector)"
   ]
  },
  {
   "cell_type": "markdown",
   "metadata": {},
   "source": [
    "## TODO: Hybrid Retrieval\n",
    "\n",
    "We can use some kind of keyword matching using:\n",
    "- `where={\"metadata_field\": \"is_equal_to_this\"}`\n",
    "- `where_document={\"$contains\":\"search_string\"}`\n",
    "- `where_document = {$contains: {\"text\": \"hello\"}}`"
   ]
  },
  {
   "cell_type": "markdown",
   "metadata": {},
   "source": [
    "## Results"
   ]
  },
  {
   "cell_type": "code",
   "execution_count": null,
   "metadata": {},
   "outputs": [],
   "source": [
    "random_retrieval_metrics = {\n",
    "    'map@6': 0.00025297242600556537,\n",
    "    'mrr@6': 0.00025297242600556537,\n",
    "    'ndcg@6': 0.00037750641783917114\n",
    "}\n",
    "\n",
    "vector_retrieval_with_random_encoder_metrics = {\n",
    "    'map@6': 0.0006408634792140989,\n",
    "    'mrr@6': 0.0006408634792140989,\n",
    "    'ndcg@6': 0.0007840291377309857\n",
    "}\n",
    "\n",
    "vector_retrieval_with_tfidf_encoder_metrics = {\n",
    "    'map@6': 0.2013449700649296,\n",
    "    'mrr@6': 0.2013449700649296,\n",
    "    'ndcg@6': 0.22658679706296206\n",
    "}\n",
    "\n",
    "# all-MiniLM-L6-v2 (foundational model)\n",
    "vector_retrieval_with_sentence_transformers_encoder_metrics = {\n",
    "    'map@6': 0.6757019984821655,\n",
    "    'mrr@6': 0.6757019984821655,\n",
    "    'ndcg@6': 0.7099112326985552\n",
    "}\n",
    "\n",
    "# all-mpnet-base-v2 (foundational model)\n",
    "vector_retrieval_with_sentence_transformers_encoder_metrics = {\n",
    "    'map@6': 0.7226663293700986,\n",
    "    'mrr@6': 0.7226663293700986,\n",
    "    'ndcg@6': 0.7568168385788774\n",
    "}\n",
    "\n",
    "# multi-qa-mpnet-base-cos-v1 (fine-tuned model - multi-qa data - 215M (question, answer) pairs)\n",
    "vector_retrieval_with_sentence_transformers_encoder_metrics = {\n",
    "    'map@6': 0.7291086938190404,\n",
    "    'mrr@6': 0.7291086938190404,\n",
    "    'ndcg@6': 0.7592275627579353\n",
    "}\n",
    "\n",
    "# all-mpnet-base-v2-deus (fine-tuned model - DEUS data)\n",
    "vector_retrieval_with_sentence_transformers_encoder_metrics = {\n",
    "    'map@6': 0.7313896618601906,\n",
    "    'mrr@6': 0.7313896618601906,\n",
    "    'ndcg@6': 0.763747792759782\n",
    "}\n",
    "\n",
    "# # mpnet-base-deus (fine-tuned model - DEUS data)\n",
    "vector_retrieval_with_sentence_transformers_encoder_metrics = {\n",
    "    'map@6': 0.564322455519015,\n",
    "    'mrr@6': 0.564322455519015,\n",
    "    'ndcg@6': 0.6020025240200427\n",
    "}"
   ]
  }
 ],
 "metadata": {
  "kernelspec": {
   "display_name": "deus-use-case",
   "language": "python",
   "name": "python3"
  },
  "language_info": {
   "codemirror_mode": {
    "name": "ipython",
    "version": 3
   },
   "file_extension": ".py",
   "mimetype": "text/x-python",
   "name": "python",
   "nbconvert_exporter": "python",
   "pygments_lexer": "ipython3",
   "version": "3.9.16"
  },
  "orig_nbformat": 4
 },
 "nbformat": 4,
 "nbformat_minor": 2
}
