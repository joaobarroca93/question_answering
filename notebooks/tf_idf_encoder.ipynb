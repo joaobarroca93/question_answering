{
 "cells": [
  {
   "cell_type": "markdown",
   "metadata": {},
   "source": [
    "# TF-IDF Encoder\n",
    "\n",
    " This notebook trains a TF-IDF model.\n",
    "\n",
    "In particular, we stack a TF-IDF model and a TruncatedSVD model. This way we end up with a dense vector representation instead of sparce vectors."
   ]
  },
  {
   "cell_type": "code",
   "execution_count": 1,
   "metadata": {},
   "outputs": [],
   "source": [
    "import numpy as np\n",
    "import pandas as pd\n",
    "\n",
    "from pathlib import Path"
   ]
  },
  {
   "cell_type": "code",
   "execution_count": 2,
   "metadata": {},
   "outputs": [],
   "source": [
    "data_path = Path.cwd().resolve().absolute().parent / \"data\"\n",
    "encoders_path = Path.cwd().resolve().absolute().parent / \"models/encoders\"\n",
    "data_filepath = data_path / \"train_query_context_pairs.csv\""
   ]
  },
  {
   "attachments": {},
   "cell_type": "markdown",
   "metadata": {},
   "source": [
    "## Load the data"
   ]
  },
  {
   "cell_type": "code",
   "execution_count": 3,
   "metadata": {},
   "outputs": [
    {
     "data": {
      "text/html": [
       "<div>\n",
       "<style scoped>\n",
       "    .dataframe tbody tr th:only-of-type {\n",
       "        vertical-align: middle;\n",
       "    }\n",
       "\n",
       "    .dataframe tbody tr th {\n",
       "        vertical-align: top;\n",
       "    }\n",
       "\n",
       "    .dataframe thead th {\n",
       "        text-align: right;\n",
       "    }\n",
       "</style>\n",
       "<table border=\"1\" class=\"dataframe\">\n",
       "  <thead>\n",
       "    <tr style=\"text-align: right;\">\n",
       "      <th></th>\n",
       "      <th>question</th>\n",
       "      <th>context</th>\n",
       "      <th>question_id</th>\n",
       "      <th>context_id</th>\n",
       "    </tr>\n",
       "  </thead>\n",
       "  <tbody>\n",
       "    <tr>\n",
       "      <th>0</th>\n",
       "      <td>Do European Leagues sell their television righ...</td>\n",
       "      <td>The Premier League sells its television rights...</td>\n",
       "      <td>c3d337ab68dfd285f559ebc0daf65125</td>\n",
       "      <td>98d6e3c8d58561cff931f63fb4e64c1c</td>\n",
       "    </tr>\n",
       "    <tr>\n",
       "      <th>1</th>\n",
       "      <td>What does the Catholic church considered \"mixe...</td>\n",
       "      <td>Between the third and fourth sessions the pope...</td>\n",
       "      <td>b03fc4a34dda7d1cfb4e9640aec30d39</td>\n",
       "      <td>4bcb9c7951bfad7dc475dc0a8364b86d</td>\n",
       "    </tr>\n",
       "    <tr>\n",
       "      <th>2</th>\n",
       "      <td>What are some of the practices Gautama underwe...</td>\n",
       "      <td>Gautama first went to study with famous religi...</td>\n",
       "      <td>12397967175462937d614d633fb6a8b0</td>\n",
       "      <td>70e382792af20b3772cce2520b45da5e</td>\n",
       "    </tr>\n",
       "    <tr>\n",
       "      <th>3</th>\n",
       "      <td>How many band members wrote Queen's One Vision?</td>\n",
       "      <td>The band, now revitalised by the response to L...</td>\n",
       "      <td>77307b73836b34d59721596af121cd2f</td>\n",
       "      <td>5e450e68f649328e03bace871b873fee</td>\n",
       "    </tr>\n",
       "    <tr>\n",
       "      <th>4</th>\n",
       "      <td>When did the federation have to be implemented...</td>\n",
       "      <td>After Nasser died in November 1970, his succes...</td>\n",
       "      <td>1a6850f01a96afabb91c24cdb3edcdee</td>\n",
       "      <td>0409ff54cef43157e6e7c88803e8590a</td>\n",
       "    </tr>\n",
       "    <tr>\n",
       "      <th>...</th>\n",
       "      <td>...</td>\n",
       "      <td>...</td>\n",
       "      <td>...</td>\n",
       "      <td>...</td>\n",
       "    </tr>\n",
       "    <tr>\n",
       "      <th>16030</th>\n",
       "      <td>What did previous religious orders do for a li...</td>\n",
       "      <td>Dominic sought to establish a new kind of orde...</td>\n",
       "      <td>a40c4eecb8ecad6ecc8dfcaca8086bea</td>\n",
       "      <td>a3cde9cea3bc2f90da8113dd41bebcf2</td>\n",
       "    </tr>\n",
       "    <tr>\n",
       "      <th>16031</th>\n",
       "      <td>What is an opening through the head called?</td>\n",
       "      <td>The salivary glands (element 30 in numbered di...</td>\n",
       "      <td>86d8ede802e28f0b80ebe11fda975738</td>\n",
       "      <td>1917672db4036274de7928953a7b8171</td>\n",
       "    </tr>\n",
       "    <tr>\n",
       "      <th>16032</th>\n",
       "      <td>What type of fruit is exported from Valencia?</td>\n",
       "      <td>Valencia's port is the biggest on the Mediterr...</td>\n",
       "      <td>671d51402eed02042c143f2fee28180b</td>\n",
       "      <td>54782fdb0abdd6ae102990368462460d</td>\n",
       "    </tr>\n",
       "    <tr>\n",
       "      <th>16033</th>\n",
       "      <td>How many listed buildings are present in the B...</td>\n",
       "      <td>The early port settlement of Plymouth, called ...</td>\n",
       "      <td>1ea2e9373b6f91276133004d7e62ffe5</td>\n",
       "      <td>29f013960b13821473a6f7a4c125670f</td>\n",
       "    </tr>\n",
       "    <tr>\n",
       "      <th>16034</th>\n",
       "      <td>How long did the region of Kiev dominate the S...</td>\n",
       "      <td>It is not clearly documented when the title of...</td>\n",
       "      <td>fdb82cb570fdc6b52aa06e550fd723a0</td>\n",
       "      <td>01f863d50f863eb9121940c4ecf5e81a</td>\n",
       "    </tr>\n",
       "  </tbody>\n",
       "</table>\n",
       "<p>16035 rows × 4 columns</p>\n",
       "</div>"
      ],
      "text/plain": [
       "                                                question  \\\n",
       "0      Do European Leagues sell their television righ...   \n",
       "1      What does the Catholic church considered \"mixe...   \n",
       "2      What are some of the practices Gautama underwe...   \n",
       "3        How many band members wrote Queen's One Vision?   \n",
       "4      When did the federation have to be implemented...   \n",
       "...                                                  ...   \n",
       "16030  What did previous religious orders do for a li...   \n",
       "16031        What is an opening through the head called?   \n",
       "16032      What type of fruit is exported from Valencia?   \n",
       "16033  How many listed buildings are present in the B...   \n",
       "16034  How long did the region of Kiev dominate the S...   \n",
       "\n",
       "                                                 context  \\\n",
       "0      The Premier League sells its television rights...   \n",
       "1      Between the third and fourth sessions the pope...   \n",
       "2      Gautama first went to study with famous religi...   \n",
       "3      The band, now revitalised by the response to L...   \n",
       "4      After Nasser died in November 1970, his succes...   \n",
       "...                                                  ...   \n",
       "16030  Dominic sought to establish a new kind of orde...   \n",
       "16031  The salivary glands (element 30 in numbered di...   \n",
       "16032  Valencia's port is the biggest on the Mediterr...   \n",
       "16033  The early port settlement of Plymouth, called ...   \n",
       "16034  It is not clearly documented when the title of...   \n",
       "\n",
       "                            question_id                        context_id  \n",
       "0      c3d337ab68dfd285f559ebc0daf65125  98d6e3c8d58561cff931f63fb4e64c1c  \n",
       "1      b03fc4a34dda7d1cfb4e9640aec30d39  4bcb9c7951bfad7dc475dc0a8364b86d  \n",
       "2      12397967175462937d614d633fb6a8b0  70e382792af20b3772cce2520b45da5e  \n",
       "3      77307b73836b34d59721596af121cd2f  5e450e68f649328e03bace871b873fee  \n",
       "4      1a6850f01a96afabb91c24cdb3edcdee  0409ff54cef43157e6e7c88803e8590a  \n",
       "...                                 ...                               ...  \n",
       "16030  a40c4eecb8ecad6ecc8dfcaca8086bea  a3cde9cea3bc2f90da8113dd41bebcf2  \n",
       "16031  86d8ede802e28f0b80ebe11fda975738  1917672db4036274de7928953a7b8171  \n",
       "16032  671d51402eed02042c143f2fee28180b  54782fdb0abdd6ae102990368462460d  \n",
       "16033  1ea2e9373b6f91276133004d7e62ffe5  29f013960b13821473a6f7a4c125670f  \n",
       "16034  fdb82cb570fdc6b52aa06e550fd723a0  01f863d50f863eb9121940c4ecf5e81a  \n",
       "\n",
       "[16035 rows x 4 columns]"
      ]
     },
     "execution_count": 3,
     "metadata": {},
     "output_type": "execute_result"
    }
   ],
   "source": [
    "data = pd.read_csv(data_filepath)\n",
    "data"
   ]
  },
  {
   "cell_type": "markdown",
   "metadata": {},
   "source": [
    "### Text preprocessing\n",
    "\n",
    "Tf-idf works better when we do some text normalization and therefore we are going to apply:\n",
    "- Lowercasing\n",
    "- Accents normalization\n",
    "- Stemming\n",
    "- Stopwords removal"
   ]
  },
  {
   "cell_type": "code",
   "execution_count": 4,
   "metadata": {},
   "outputs": [
    {
     "name": "stderr",
     "output_type": "stream",
     "text": [
      "[nltk_data] Downloading package punkt to\n",
      "[nltk_data]     /Users/joao.barroca/nltk_data...\n",
      "[nltk_data]   Package punkt is already up-to-date!\n",
      "[nltk_data] Downloading package stopwords to\n",
      "[nltk_data]     /Users/joao.barroca/nltk_data...\n",
      "[nltk_data]   Package stopwords is already up-to-date!\n"
     ]
    },
    {
     "data": {
      "text/plain": [
       "'european leagu bla bla bla'"
      ]
     },
     "execution_count": 4,
     "metadata": {},
     "output_type": "execute_result"
    }
   ],
   "source": [
    "import nltk\n",
    "import unicodedata\n",
    "from nltk.tokenize import RegexpTokenizer\n",
    "from nltk.corpus import stopwords\n",
    "from nltk.stem import PorterStemmer\n",
    "\n",
    "nltk.download('punkt')\n",
    "nltk.download('stopwords')\n",
    "\n",
    "tokenizer = RegexpTokenizer(r\"\\w+\")\n",
    "ps = PorterStemmer()\n",
    "english_stopwords = stopwords.words('english')\n",
    "\n",
    "def text_preprocessing(text):\n",
    "    # lowercasing\n",
    "    text = text.lower()\n",
    "    # accents normalization\n",
    "    text = unicodedata.normalize(\"NFD\", text)\n",
    "    text = \"\".join(c for c in text if unicodedata.category(c) != \"Mn\")\n",
    "    # stemming\n",
    "    tokens = [ps.stem(token) for token in tokenizer.tokenize(text)]\n",
    "    # stopwords removal\n",
    "    tokens = [token for token in tokens if token not in english_stopwords]\n",
    "    return \" \".join(tokens)\n",
    "\n",
    "text_preprocessing(\"Do 'European Leagues' blá blá blá?\")"
   ]
  },
  {
   "cell_type": "code",
   "execution_count": 5,
   "metadata": {},
   "outputs": [
    {
     "data": {
      "text/html": [
       "<div>\n",
       "<style scoped>\n",
       "    .dataframe tbody tr th:only-of-type {\n",
       "        vertical-align: middle;\n",
       "    }\n",
       "\n",
       "    .dataframe tbody tr th {\n",
       "        vertical-align: top;\n",
       "    }\n",
       "\n",
       "    .dataframe thead th {\n",
       "        text-align: right;\n",
       "    }\n",
       "</style>\n",
       "<table border=\"1\" class=\"dataframe\">\n",
       "  <thead>\n",
       "    <tr style=\"text-align: right;\">\n",
       "      <th></th>\n",
       "      <th>question</th>\n",
       "      <th>context</th>\n",
       "      <th>question_id</th>\n",
       "      <th>context_id</th>\n",
       "      <th>p_question</th>\n",
       "      <th>p_context</th>\n",
       "    </tr>\n",
       "  </thead>\n",
       "  <tbody>\n",
       "    <tr>\n",
       "      <th>0</th>\n",
       "      <td>Do European Leagues sell their television righ...</td>\n",
       "      <td>The Premier League sells its television rights...</td>\n",
       "      <td>c3d337ab68dfd285f559ebc0daf65125</td>\n",
       "      <td>98d6e3c8d58561cff931f63fb4e64c1c</td>\n",
       "      <td>european leagu sell televis right per collect ...</td>\n",
       "      <td>premier leagu sell televis right collect basi ...</td>\n",
       "    </tr>\n",
       "    <tr>\n",
       "      <th>1</th>\n",
       "      <td>What does the Catholic church considered \"mixe...</td>\n",
       "      <td>Between the third and fourth sessions the pope...</td>\n",
       "      <td>b03fc4a34dda7d1cfb4e9640aec30d39</td>\n",
       "      <td>4bcb9c7951bfad7dc475dc0a8364b86d</td>\n",
       "      <td>doe cathol church consid mix mix marriag</td>\n",
       "      <td>third fourth session pope announc reform area ...</td>\n",
       "    </tr>\n",
       "    <tr>\n",
       "      <th>2</th>\n",
       "      <td>What are some of the practices Gautama underwe...</td>\n",
       "      <td>Gautama first went to study with famous religi...</td>\n",
       "      <td>12397967175462937d614d633fb6a8b0</td>\n",
       "      <td>70e382792af20b3772cce2520b45da5e</td>\n",
       "      <td>practic gautama underw hi quest</td>\n",
       "      <td>gautama first went studi famou religi teacher ...</td>\n",
       "    </tr>\n",
       "    <tr>\n",
       "      <th>3</th>\n",
       "      <td>How many band members wrote Queen's One Vision?</td>\n",
       "      <td>The band, now revitalised by the response to L...</td>\n",
       "      <td>77307b73836b34d59721596af121cd2f</td>\n",
       "      <td>5e450e68f649328e03bace871b873fee</td>\n",
       "      <td>mani band member wrote queen one vision</td>\n",
       "      <td>band revitalis respons live aid shot arm roger...</td>\n",
       "    </tr>\n",
       "    <tr>\n",
       "      <th>4</th>\n",
       "      <td>When did the federation have to be implemented...</td>\n",
       "      <td>After Nasser died in November 1970, his succes...</td>\n",
       "      <td>1a6850f01a96afabb91c24cdb3edcdee</td>\n",
       "      <td>0409ff54cef43157e6e7c88803e8590a</td>\n",
       "      <td>feder implement</td>\n",
       "      <td>nasser die novemb 1970 hi successor anwar sada...</td>\n",
       "    </tr>\n",
       "    <tr>\n",
       "      <th>...</th>\n",
       "      <td>...</td>\n",
       "      <td>...</td>\n",
       "      <td>...</td>\n",
       "      <td>...</td>\n",
       "      <td>...</td>\n",
       "      <td>...</td>\n",
       "    </tr>\n",
       "    <tr>\n",
       "      <th>16030</th>\n",
       "      <td>What did previous religious orders do for a li...</td>\n",
       "      <td>Dominic sought to establish a new kind of orde...</td>\n",
       "      <td>a40c4eecb8ecad6ecc8dfcaca8086bea</td>\n",
       "      <td>a3cde9cea3bc2f90da8113dd41bebcf2</td>\n",
       "      <td>previou religi order live</td>\n",
       "      <td>domin sought establish new kind order one woul...</td>\n",
       "    </tr>\n",
       "    <tr>\n",
       "      <th>16031</th>\n",
       "      <td>What is an opening through the head called?</td>\n",
       "      <td>The salivary glands (element 30 in numbered di...</td>\n",
       "      <td>86d8ede802e28f0b80ebe11fda975738</td>\n",
       "      <td>1917672db4036274de7928953a7b8171</td>\n",
       "      <td>open head call</td>\n",
       "      <td>salivari gland element 30 number diagram insec...</td>\n",
       "    </tr>\n",
       "    <tr>\n",
       "      <th>16032</th>\n",
       "      <td>What type of fruit is exported from Valencia?</td>\n",
       "      <td>Valencia's port is the biggest on the Mediterr...</td>\n",
       "      <td>671d51402eed02042c143f2fee28180b</td>\n",
       "      <td>54782fdb0abdd6ae102990368462460d</td>\n",
       "      <td>type fruit export valencia</td>\n",
       "      <td>valencia port biggest mediterranean western co...</td>\n",
       "    </tr>\n",
       "    <tr>\n",
       "      <th>16033</th>\n",
       "      <td>How many listed buildings are present in the B...</td>\n",
       "      <td>The early port settlement of Plymouth, called ...</td>\n",
       "      <td>1ea2e9373b6f91276133004d7e62ffe5</td>\n",
       "      <td>29f013960b13821473a6f7a4c125670f</td>\n",
       "      <td>mani list build present barbican area</td>\n",
       "      <td>earli port settlement plymouth call sutton app...</td>\n",
       "    </tr>\n",
       "    <tr>\n",
       "      <th>16034</th>\n",
       "      <td>How long did the region of Kiev dominate the S...</td>\n",
       "      <td>It is not clearly documented when the title of...</td>\n",
       "      <td>fdb82cb570fdc6b52aa06e550fd723a0</td>\n",
       "      <td>01f863d50f863eb9121940c4ecf5e81a</td>\n",
       "      <td>long region kiev domin state ru</td>\n",
       "      <td>clearli document titl grand duke wa first intr...</td>\n",
       "    </tr>\n",
       "  </tbody>\n",
       "</table>\n",
       "<p>16035 rows × 6 columns</p>\n",
       "</div>"
      ],
      "text/plain": [
       "                                                question  \\\n",
       "0      Do European Leagues sell their television righ...   \n",
       "1      What does the Catholic church considered \"mixe...   \n",
       "2      What are some of the practices Gautama underwe...   \n",
       "3        How many band members wrote Queen's One Vision?   \n",
       "4      When did the federation have to be implemented...   \n",
       "...                                                  ...   \n",
       "16030  What did previous religious orders do for a li...   \n",
       "16031        What is an opening through the head called?   \n",
       "16032      What type of fruit is exported from Valencia?   \n",
       "16033  How many listed buildings are present in the B...   \n",
       "16034  How long did the region of Kiev dominate the S...   \n",
       "\n",
       "                                                 context  \\\n",
       "0      The Premier League sells its television rights...   \n",
       "1      Between the third and fourth sessions the pope...   \n",
       "2      Gautama first went to study with famous religi...   \n",
       "3      The band, now revitalised by the response to L...   \n",
       "4      After Nasser died in November 1970, his succes...   \n",
       "...                                                  ...   \n",
       "16030  Dominic sought to establish a new kind of orde...   \n",
       "16031  The salivary glands (element 30 in numbered di...   \n",
       "16032  Valencia's port is the biggest on the Mediterr...   \n",
       "16033  The early port settlement of Plymouth, called ...   \n",
       "16034  It is not clearly documented when the title of...   \n",
       "\n",
       "                            question_id                        context_id  \\\n",
       "0      c3d337ab68dfd285f559ebc0daf65125  98d6e3c8d58561cff931f63fb4e64c1c   \n",
       "1      b03fc4a34dda7d1cfb4e9640aec30d39  4bcb9c7951bfad7dc475dc0a8364b86d   \n",
       "2      12397967175462937d614d633fb6a8b0  70e382792af20b3772cce2520b45da5e   \n",
       "3      77307b73836b34d59721596af121cd2f  5e450e68f649328e03bace871b873fee   \n",
       "4      1a6850f01a96afabb91c24cdb3edcdee  0409ff54cef43157e6e7c88803e8590a   \n",
       "...                                 ...                               ...   \n",
       "16030  a40c4eecb8ecad6ecc8dfcaca8086bea  a3cde9cea3bc2f90da8113dd41bebcf2   \n",
       "16031  86d8ede802e28f0b80ebe11fda975738  1917672db4036274de7928953a7b8171   \n",
       "16032  671d51402eed02042c143f2fee28180b  54782fdb0abdd6ae102990368462460d   \n",
       "16033  1ea2e9373b6f91276133004d7e62ffe5  29f013960b13821473a6f7a4c125670f   \n",
       "16034  fdb82cb570fdc6b52aa06e550fd723a0  01f863d50f863eb9121940c4ecf5e81a   \n",
       "\n",
       "                                              p_question  \\\n",
       "0      european leagu sell televis right per collect ...   \n",
       "1               doe cathol church consid mix mix marriag   \n",
       "2                        practic gautama underw hi quest   \n",
       "3                mani band member wrote queen one vision   \n",
       "4                                        feder implement   \n",
       "...                                                  ...   \n",
       "16030                          previou religi order live   \n",
       "16031                                     open head call   \n",
       "16032                         type fruit export valencia   \n",
       "16033              mani list build present barbican area   \n",
       "16034                    long region kiev domin state ru   \n",
       "\n",
       "                                               p_context  \n",
       "0      premier leagu sell televis right collect basi ...  \n",
       "1      third fourth session pope announc reform area ...  \n",
       "2      gautama first went studi famou religi teacher ...  \n",
       "3      band revitalis respons live aid shot arm roger...  \n",
       "4      nasser die novemb 1970 hi successor anwar sada...  \n",
       "...                                                  ...  \n",
       "16030  domin sought establish new kind order one woul...  \n",
       "16031  salivari gland element 30 number diagram insec...  \n",
       "16032  valencia port biggest mediterranean western co...  \n",
       "16033  earli port settlement plymouth call sutton app...  \n",
       "16034  clearli document titl grand duke wa first intr...  \n",
       "\n",
       "[16035 rows x 6 columns]"
      ]
     },
     "execution_count": 5,
     "metadata": {},
     "output_type": "execute_result"
    }
   ],
   "source": [
    "data[\"p_question\"] = data[\"question\"].apply(text_preprocessing)\n",
    "data[\"p_context\"] = data[\"context\"].apply(text_preprocessing)\n",
    "data"
   ]
  },
  {
   "attachments": {},
   "cell_type": "markdown",
   "metadata": {},
   "source": [
    "## Metrics\n",
    "\n",
    "This implements a contrastive loss. It is very similar to [MultipleNegativesRankingLoss](https://github.com/UKPLab/sentence-transformers/blob/master/sentence_transformers/losses/MultipleNegativesRankingLoss.py).\n",
    "\n",
    "We first compute a pairwise similarity matrix by doing the cosine similarity of each query vector against each context vector. The similarity matrix will then be a (NxN) matrix, where N is the total number of instannces in the test data.\n",
    "\n",
    "Then, we apply a softmax to \"transform\" such similarity score into probability distributions.\n",
    "\n",
    "Finally, we apply cross entropy loss (log loss). The target is the identity matrix."
   ]
  },
  {
   "cell_type": "code",
   "execution_count": 6,
   "metadata": {},
   "outputs": [],
   "source": [
    "from sklearn.metrics.pairwise import cosine_similarity\n",
    "from sklearn.metrics import log_loss\n",
    "from scipy.special import softmax\n",
    "\n",
    "def constrastive_loss(query_emb_matrix, context_emb_matrix):\n",
    "    sim_matrix = cosine_similarity(query_emb_matrix, context_emb_matrix, dense_output=False)\n",
    "    n_sim_matrix = softmax(sim_matrix, axis=1)\n",
    "    N = sim_matrix.shape[0]\n",
    "    targets = np.arange(N)\n",
    "    ce_loss = log_loss(y_pred=n_sim_matrix, y_true=targets)\n",
    "    return ce_loss"
   ]
  },
  {
   "cell_type": "markdown",
   "metadata": {},
   "source": [
    "## Train test splits\n",
    "\n",
    "Cross-validation would take a very long time to run, and therefore we stick with just a single train-test split."
   ]
  },
  {
   "cell_type": "code",
   "execution_count": 7,
   "metadata": {},
   "outputs": [
    {
     "data": {
      "text/plain": [
       "((12828, 6), (3207, 6))"
      ]
     },
     "execution_count": 7,
     "metadata": {},
     "output_type": "execute_result"
    }
   ],
   "source": [
    "from sklearn.model_selection import train_test_split\n",
    "\n",
    "train_data, test_data = train_test_split(data, test_size=0.2)\n",
    "train_data.shape, test_data.shape"
   ]
  },
  {
   "attachments": {},
   "cell_type": "markdown",
   "metadata": {},
   "source": [
    "## TF-IDF Encoder"
   ]
  },
  {
   "cell_type": "code",
   "execution_count": 8,
   "metadata": {},
   "outputs": [],
   "source": [
    "from sklearn.feature_extraction.text import TfidfVectorizer\n",
    "from sklearn.decomposition import TruncatedSVD\n",
    "from sklearn.pipeline import make_pipeline"
   ]
  },
  {
   "cell_type": "code",
   "execution_count": 9,
   "metadata": {},
   "outputs": [
    {
     "data": {
      "text/plain": [
       "((12828, 2), (3207, 2))"
      ]
     },
     "execution_count": 9,
     "metadata": {},
     "output_type": "execute_result"
    }
   ],
   "source": [
    "X_train = train_data.loc[:, [\"p_question\", \"p_context\"]].values\n",
    "X_test = test_data.loc[:, [\"p_question\", \"p_context\"]].values\n",
    "\n",
    "X_train.shape, X_test.shape"
   ]
  },
  {
   "attachments": {},
   "cell_type": "markdown",
   "metadata": {},
   "source": [
    "### Hyper-parameter tuning"
   ]
  },
  {
   "cell_type": "code",
   "execution_count": 10,
   "metadata": {},
   "outputs": [],
   "source": [
    "from itertools import product\n",
    "\n",
    "params = {\n",
    "    \"ngram_ranges\": [\n",
    "        (1, 2),  # unigrams + bigrams\n",
    "    ],\n",
    "    \"max_df\": [\n",
    "        0.5,  # discard tokens that appear in more than 50% of the documents\n",
    "    ],\n",
    "    \"min_df\": [\n",
    "        5,  # tokens need to be in at least 5 documents to be used\n",
    "    ],\n",
    "    \"n_components\": [512, 1024, 2048, 4096],  # final dimension of the embeddings after applying PCA\n",
    "}\n",
    "\n",
    "combinations = product(\n",
    "    params[\"ngram_ranges\"],\n",
    "    params[\"max_df\"],\n",
    "    params[\"min_df\"],\n",
    "    params[\"n_components\"],\n",
    ")"
   ]
  },
  {
   "cell_type": "code",
   "execution_count": 11,
   "metadata": {},
   "outputs": [
    {
     "name": "stdout",
     "output_type": "stream",
     "text": [
      "Running experiment for {'ngram_range': (1, 2), 'max_df': 0.5, 'min_df': 5, 'n_components': 512}\n",
      "loss=7.688612948436394\n",
      "{'ngram_range': (1, 2), 'max_df': 0.5, 'min_df': 5, 'n_components': 512, 'model': Pipeline(steps=[('tfidfvectorizer',\n",
      "                 TfidfVectorizer(lowercase=False, max_df=0.5, min_df=5,\n",
      "                                 ngram_range=(1, 2))),\n",
      "                ('truncatedsvd',\n",
      "                 TruncatedSVD(n_components=512, random_state=42))]), 'loss': 7.688612948436394}\n",
      "Running experiment for {'ngram_range': (1, 2), 'max_df': 0.5, 'min_df': 5, 'n_components': 1024}\n",
      "loss=7.700708107732749\n",
      "{'ngram_range': (1, 2), 'max_df': 0.5, 'min_df': 5, 'n_components': 1024, 'model': Pipeline(steps=[('tfidfvectorizer',\n",
      "                 TfidfVectorizer(lowercase=False, max_df=0.5, min_df=5,\n",
      "                                 ngram_range=(1, 2))),\n",
      "                ('truncatedsvd',\n",
      "                 TruncatedSVD(n_components=1024, random_state=42))]), 'loss': 7.700708107732749}\n",
      "Running experiment for {'ngram_range': (1, 2), 'max_df': 0.5, 'min_df': 5, 'n_components': 2048}\n",
      "loss=7.712658821053161\n",
      "{'ngram_range': (1, 2), 'max_df': 0.5, 'min_df': 5, 'n_components': 2048, 'model': Pipeline(steps=[('tfidfvectorizer',\n",
      "                 TfidfVectorizer(lowercase=False, max_df=0.5, min_df=5,\n",
      "                                 ngram_range=(1, 2))),\n",
      "                ('truncatedsvd',\n",
      "                 TruncatedSVD(n_components=2048, random_state=42))]), 'loss': 7.712658821053161}\n",
      "Running experiment for {'ngram_range': (1, 2), 'max_df': 0.5, 'min_df': 5, 'n_components': 4096}\n",
      "loss=7.727475928734842\n",
      "{'ngram_range': (1, 2), 'max_df': 0.5, 'min_df': 5, 'n_components': 4096, 'model': Pipeline(steps=[('tfidfvectorizer',\n",
      "                 TfidfVectorizer(lowercase=False, max_df=0.5, min_df=5,\n",
      "                                 ngram_range=(1, 2))),\n",
      "                ('truncatedsvd',\n",
      "                 TruncatedSVD(n_components=4096, random_state=42))]), 'loss': 7.727475928734842}\n"
     ]
    }
   ],
   "source": [
    "results = []\n",
    "for ngram_range, max_df, min_df, n_components in combinations:\n",
    "\n",
    "    results_obj = {\n",
    "        \"ngram_range\": ngram_range,\n",
    "        \"max_df\": max_df,\n",
    "        \"min_df\": min_df,\n",
    "        \"n_components\": n_components,\n",
    "    }\n",
    "    print(f\"Running experiment for {results_obj}\")\n",
    "\n",
    "    vectorizer = TfidfVectorizer(\n",
    "        lowercase=False,\n",
    "        ngram_range=ngram_range,\n",
    "        max_df=max_df,\n",
    "        min_df=min_df,\n",
    "    )\n",
    "\n",
    "    truncated_svd = TruncatedSVD(\n",
    "        n_components=n_components,\n",
    "        random_state=42,\n",
    "    )\n",
    "\n",
    "    pipeline = make_pipeline(vectorizer, truncated_svd)\n",
    "    results_obj[\"model\"] = pipeline\n",
    "\n",
    "    pipeline.fit(X_train.reshape(-1))\n",
    "\n",
    "    query_emb_matrix = pipeline.transform(X_test[:, 0])\n",
    "    context_emb_matrix = pipeline.transform(X_test[:, 1])\n",
    "\n",
    "    loss = constrastive_loss(query_emb_matrix, context_emb_matrix)\n",
    "    print(f\"loss={loss}\")\n",
    "\n",
    "    results_obj[\"loss\"] = loss\n",
    "    results.append(results_obj)\n",
    "    print(results_obj)"
   ]
  },
  {
   "cell_type": "code",
   "execution_count": 12,
   "metadata": {},
   "outputs": [
    {
     "data": {
      "text/plain": [
       "[{'ngram_range': (1, 2),\n",
       "  'max_df': 0.5,\n",
       "  'min_df': 5,\n",
       "  'n_components': 512,\n",
       "  'model': Pipeline(steps=[('tfidfvectorizer',\n",
       "                   TfidfVectorizer(lowercase=False, max_df=0.5, min_df=5,\n",
       "                                   ngram_range=(1, 2))),\n",
       "                  ('truncatedsvd',\n",
       "                   TruncatedSVD(n_components=512, random_state=42))]),\n",
       "  'loss': 7.688612948436394},\n",
       " {'ngram_range': (1, 2),\n",
       "  'max_df': 0.5,\n",
       "  'min_df': 5,\n",
       "  'n_components': 1024,\n",
       "  'model': Pipeline(steps=[('tfidfvectorizer',\n",
       "                   TfidfVectorizer(lowercase=False, max_df=0.5, min_df=5,\n",
       "                                   ngram_range=(1, 2))),\n",
       "                  ('truncatedsvd',\n",
       "                   TruncatedSVD(n_components=1024, random_state=42))]),\n",
       "  'loss': 7.700708107732749},\n",
       " {'ngram_range': (1, 2),\n",
       "  'max_df': 0.5,\n",
       "  'min_df': 5,\n",
       "  'n_components': 2048,\n",
       "  'model': Pipeline(steps=[('tfidfvectorizer',\n",
       "                   TfidfVectorizer(lowercase=False, max_df=0.5, min_df=5,\n",
       "                                   ngram_range=(1, 2))),\n",
       "                  ('truncatedsvd',\n",
       "                   TruncatedSVD(n_components=2048, random_state=42))]),\n",
       "  'loss': 7.712658821053161},\n",
       " {'ngram_range': (1, 2),\n",
       "  'max_df': 0.5,\n",
       "  'min_df': 5,\n",
       "  'n_components': 4096,\n",
       "  'model': Pipeline(steps=[('tfidfvectorizer',\n",
       "                   TfidfVectorizer(lowercase=False, max_df=0.5, min_df=5,\n",
       "                                   ngram_range=(1, 2))),\n",
       "                  ('truncatedsvd',\n",
       "                   TruncatedSVD(n_components=4096, random_state=42))]),\n",
       "  'loss': 7.727475928734842}]"
      ]
     },
     "execution_count": 12,
     "metadata": {},
     "output_type": "execute_result"
    }
   ],
   "source": [
    "sorted(results, key=lambda x: x[\"loss\"])"
   ]
  },
  {
   "cell_type": "markdown",
   "metadata": {},
   "source": [
    "### Train best model on full data and save locally"
   ]
  },
  {
   "cell_type": "code",
   "execution_count": 13,
   "metadata": {},
   "outputs": [
    {
     "data": {
      "text/html": [
       "<style>#sk-container-id-1 {color: black;}#sk-container-id-1 pre{padding: 0;}#sk-container-id-1 div.sk-toggleable {background-color: white;}#sk-container-id-1 label.sk-toggleable__label {cursor: pointer;display: block;width: 100%;margin-bottom: 0;padding: 0.3em;box-sizing: border-box;text-align: center;}#sk-container-id-1 label.sk-toggleable__label-arrow:before {content: \"▸\";float: left;margin-right: 0.25em;color: #696969;}#sk-container-id-1 label.sk-toggleable__label-arrow:hover:before {color: black;}#sk-container-id-1 div.sk-estimator:hover label.sk-toggleable__label-arrow:before {color: black;}#sk-container-id-1 div.sk-toggleable__content {max-height: 0;max-width: 0;overflow: hidden;text-align: left;background-color: #f0f8ff;}#sk-container-id-1 div.sk-toggleable__content pre {margin: 0.2em;color: black;border-radius: 0.25em;background-color: #f0f8ff;}#sk-container-id-1 input.sk-toggleable__control:checked~div.sk-toggleable__content {max-height: 200px;max-width: 100%;overflow: auto;}#sk-container-id-1 input.sk-toggleable__control:checked~label.sk-toggleable__label-arrow:before {content: \"▾\";}#sk-container-id-1 div.sk-estimator input.sk-toggleable__control:checked~label.sk-toggleable__label {background-color: #d4ebff;}#sk-container-id-1 div.sk-label input.sk-toggleable__control:checked~label.sk-toggleable__label {background-color: #d4ebff;}#sk-container-id-1 input.sk-hidden--visually {border: 0;clip: rect(1px 1px 1px 1px);clip: rect(1px, 1px, 1px, 1px);height: 1px;margin: -1px;overflow: hidden;padding: 0;position: absolute;width: 1px;}#sk-container-id-1 div.sk-estimator {font-family: monospace;background-color: #f0f8ff;border: 1px dotted black;border-radius: 0.25em;box-sizing: border-box;margin-bottom: 0.5em;}#sk-container-id-1 div.sk-estimator:hover {background-color: #d4ebff;}#sk-container-id-1 div.sk-parallel-item::after {content: \"\";width: 100%;border-bottom: 1px solid gray;flex-grow: 1;}#sk-container-id-1 div.sk-label:hover label.sk-toggleable__label {background-color: #d4ebff;}#sk-container-id-1 div.sk-serial::before {content: \"\";position: absolute;border-left: 1px solid gray;box-sizing: border-box;top: 0;bottom: 0;left: 50%;z-index: 0;}#sk-container-id-1 div.sk-serial {display: flex;flex-direction: column;align-items: center;background-color: white;padding-right: 0.2em;padding-left: 0.2em;position: relative;}#sk-container-id-1 div.sk-item {position: relative;z-index: 1;}#sk-container-id-1 div.sk-parallel {display: flex;align-items: stretch;justify-content: center;background-color: white;position: relative;}#sk-container-id-1 div.sk-item::before, #sk-container-id-1 div.sk-parallel-item::before {content: \"\";position: absolute;border-left: 1px solid gray;box-sizing: border-box;top: 0;bottom: 0;left: 50%;z-index: -1;}#sk-container-id-1 div.sk-parallel-item {display: flex;flex-direction: column;z-index: 1;position: relative;background-color: white;}#sk-container-id-1 div.sk-parallel-item:first-child::after {align-self: flex-end;width: 50%;}#sk-container-id-1 div.sk-parallel-item:last-child::after {align-self: flex-start;width: 50%;}#sk-container-id-1 div.sk-parallel-item:only-child::after {width: 0;}#sk-container-id-1 div.sk-dashed-wrapped {border: 1px dashed gray;margin: 0 0.4em 0.5em 0.4em;box-sizing: border-box;padding-bottom: 0.4em;background-color: white;}#sk-container-id-1 div.sk-label label {font-family: monospace;font-weight: bold;display: inline-block;line-height: 1.2em;}#sk-container-id-1 div.sk-label-container {text-align: center;}#sk-container-id-1 div.sk-container {/* jupyter's `normalize.less` sets `[hidden] { display: none; }` but bootstrap.min.css set `[hidden] { display: none !important; }` so we also need the `!important` here to be able to override the default hidden behavior on the sphinx rendered scikit-learn.org. See: https://github.com/scikit-learn/scikit-learn/issues/21755 */display: inline-block !important;position: relative;}#sk-container-id-1 div.sk-text-repr-fallback {display: none;}</style><div id=\"sk-container-id-1\" class=\"sk-top-container\"><div class=\"sk-text-repr-fallback\"><pre>Pipeline(steps=[(&#x27;tfidfvectorizer&#x27;,\n",
       "                 TfidfVectorizer(lowercase=False, max_df=0.5, min_df=5,\n",
       "                                 ngram_range=(1, 2))),\n",
       "                (&#x27;truncatedsvd&#x27;,\n",
       "                 TruncatedSVD(n_components=512, random_state=42))])</pre><b>In a Jupyter environment, please rerun this cell to show the HTML representation or trust the notebook. <br />On GitHub, the HTML representation is unable to render, please try loading this page with nbviewer.org.</b></div><div class=\"sk-container\" hidden><div class=\"sk-item sk-dashed-wrapped\"><div class=\"sk-label-container\"><div class=\"sk-label sk-toggleable\"><input class=\"sk-toggleable__control sk-hidden--visually\" id=\"sk-estimator-id-1\" type=\"checkbox\" ><label for=\"sk-estimator-id-1\" class=\"sk-toggleable__label sk-toggleable__label-arrow\">Pipeline</label><div class=\"sk-toggleable__content\"><pre>Pipeline(steps=[(&#x27;tfidfvectorizer&#x27;,\n",
       "                 TfidfVectorizer(lowercase=False, max_df=0.5, min_df=5,\n",
       "                                 ngram_range=(1, 2))),\n",
       "                (&#x27;truncatedsvd&#x27;,\n",
       "                 TruncatedSVD(n_components=512, random_state=42))])</pre></div></div></div><div class=\"sk-serial\"><div class=\"sk-item\"><div class=\"sk-estimator sk-toggleable\"><input class=\"sk-toggleable__control sk-hidden--visually\" id=\"sk-estimator-id-2\" type=\"checkbox\" ><label for=\"sk-estimator-id-2\" class=\"sk-toggleable__label sk-toggleable__label-arrow\">TfidfVectorizer</label><div class=\"sk-toggleable__content\"><pre>TfidfVectorizer(lowercase=False, max_df=0.5, min_df=5, ngram_range=(1, 2))</pre></div></div></div><div class=\"sk-item\"><div class=\"sk-estimator sk-toggleable\"><input class=\"sk-toggleable__control sk-hidden--visually\" id=\"sk-estimator-id-3\" type=\"checkbox\" ><label for=\"sk-estimator-id-3\" class=\"sk-toggleable__label sk-toggleable__label-arrow\">TruncatedSVD</label><div class=\"sk-toggleable__content\"><pre>TruncatedSVD(n_components=512, random_state=42)</pre></div></div></div></div></div></div></div>"
      ],
      "text/plain": [
       "Pipeline(steps=[('tfidfvectorizer',\n",
       "                 TfidfVectorizer(lowercase=False, max_df=0.5, min_df=5,\n",
       "                                 ngram_range=(1, 2))),\n",
       "                ('truncatedsvd',\n",
       "                 TruncatedSVD(n_components=512, random_state=42))])"
      ]
     },
     "execution_count": 13,
     "metadata": {},
     "output_type": "execute_result"
    }
   ],
   "source": [
    "X = data.loc[:, [\"p_question\", \"p_context\"]].values\n",
    "\n",
    "tdf_idf_encoder = sorted(results, key=lambda x: x[\"loss\"])[0][\"model\"]\n",
    "tdf_idf_encoder.fit(X.reshape(-1))"
   ]
  },
  {
   "cell_type": "code",
   "execution_count": 14,
   "metadata": {},
   "outputs": [
    {
     "data": {
      "text/plain": [
       "['/Users/joao.barroca/Desktop/projects/deus-use-case/models/encoders/tf-idf-encoder.joblib']"
      ]
     },
     "execution_count": 14,
     "metadata": {},
     "output_type": "execute_result"
    }
   ],
   "source": [
    "from joblib import dump\n",
    "dump(tdf_idf_encoder, Path(encoders_path, \"tf-idf-encoder.joblib\"))"
   ]
  }
 ],
 "metadata": {
  "kernelspec": {
   "display_name": "deus-use-case",
   "language": "python",
   "name": "python3"
  },
  "language_info": {
   "codemirror_mode": {
    "name": "ipython",
    "version": 3
   },
   "file_extension": ".py",
   "mimetype": "text/x-python",
   "name": "python",
   "nbconvert_exporter": "python",
   "pygments_lexer": "ipython3",
   "version": "3.9.16"
  },
  "orig_nbformat": 4
 },
 "nbformat": 4,
 "nbformat_minor": 2
}
